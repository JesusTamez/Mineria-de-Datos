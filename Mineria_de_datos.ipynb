{
  "nbformat": 4,
  "nbformat_minor": 0,
  "metadata": {
    "colab": {
      "provenance": [],
      "toc_visible": true,
      "authorship_tag": "ABX9TyMVrqjBfwG8z9qwDdyh8IxB",
      "include_colab_link": true
    },
    "kernelspec": {
      "name": "python3",
      "display_name": "Python 3"
    },
    "language_info": {
      "name": "python"
    }
  },
  "cells": [
    {
      "cell_type": "markdown",
      "metadata": {
        "id": "view-in-github",
        "colab_type": "text"
      },
      "source": [
        "<a href=\"https://colab.research.google.com/github/JesusTamez/Mineria-de-Datos/blob/main/Mineria_de_datos.ipynb\" target=\"_parent\"><img src=\"https://colab.research.google.com/assets/colab-badge.svg\" alt=\"Open In Colab\"/></a>"
      ]
    },
    {
      "cell_type": "code",
      "execution_count": 371,
      "metadata": {
        "id": "gCxl6B-q3xWV"
      },
      "outputs": [],
      "source": [
        "import pandas as pd"
      ]
    },
    {
      "cell_type": "code",
      "source": [
        "from google.colab import drive\n",
        "drive.mount('/content/drive')"
      ],
      "metadata": {
        "colab": {
          "base_uri": "https://localhost:8080/"
        },
        "id": "FAzs4e3Q7TXj",
        "outputId": "f1c7aa1e-2fa9-4036-a7b2-fc730ca99f44"
      },
      "execution_count": null,
      "outputs": [
        {
          "output_type": "stream",
          "name": "stdout",
          "text": [
            "Drive already mounted at /content/drive; to attempt to forcibly remount, call drive.mount(\"/content/drive\", force_remount=True).\n"
          ]
        }
      ]
    },
    {
      "cell_type": "code",
      "source": [
        "df = pd.read_csv(\"/content/drive/MyDrive/Mineria de datos/ranking.csv\")"
      ],
      "metadata": {
        "id": "iLlsykaC7q61"
      },
      "execution_count": null,
      "outputs": []
    },
    {
      "cell_type": "code",
      "source": [
        "print(df)"
      ],
      "metadata": {
        "colab": {
          "base_uri": "https://localhost:8080/"
        },
        "id": "KeeWDGSm83ZR",
        "outputId": "f829817f-6183-4cd1-c2e0-76d8bb56723c"
      },
      "execution_count": null,
      "outputs": [
        {
          "output_type": "stream",
          "name": "stdout",
          "text": [
            "           TEAM_ID  LEAGUE_ID  SEASON_ID STANDINGSDATE CONFERENCE  \\\n",
            "0       1610612743          0      22022    2022-12-22       West   \n",
            "1       1610612763          0      22022    2022-12-22       West   \n",
            "2       1610612740          0      22022    2022-12-22       West   \n",
            "3       1610612756          0      22022    2022-12-22       West   \n",
            "4       1610612746          0      22022    2022-12-22       West   \n",
            "...            ...        ...        ...           ...        ...   \n",
            "210337  1610612765          0      22013    2014-09-01       East   \n",
            "210338  1610612738          0      22013    2014-09-01       East   \n",
            "210339  1610612753          0      22013    2014-09-01       East   \n",
            "210340  1610612755          0      22013    2014-09-01       East   \n",
            "210341  1610612749          0      22013    2014-09-01       East   \n",
            "\n",
            "                TEAM   G   W   L  W_PCT HOME_RECORD ROAD_RECORD  RETURNTOPLAY  \n",
            "0             Denver  30  19  11  0.633        10-3         9-8           NaN  \n",
            "1            Memphis  30  19  11  0.633        13-2         6-9           NaN  \n",
            "2        New Orleans  31  19  12  0.613        13-4         6-8           NaN  \n",
            "3            Phoenix  32  19  13  0.594        14-4         5-9           NaN  \n",
            "4        LA Clippers  33  19  14  0.576        11-7         8-7           NaN  \n",
            "...              ...  ..  ..  ..    ...         ...         ...           ...  \n",
            "210337       Detroit  82  29  53  0.354       17-24       12-29           NaN  \n",
            "210338        Boston  82  25  57  0.305       16-25        9-32           NaN  \n",
            "210339       Orlando  82  23  59  0.280       19-22        4-37           NaN  \n",
            "210340  Philadelphia  82  19  63  0.232       10-31        9-32           NaN  \n",
            "210341     Milwaukee  82  15  67  0.183       10-31        5-36           NaN  \n",
            "\n",
            "[210342 rows x 13 columns]\n"
          ]
        }
      ]
    },
    {
      "cell_type": "markdown",
      "source": [
        "# Limpieza de datos"
      ],
      "metadata": {
        "id": "4vzZrac89T58"
      }
    },
    {
      "cell_type": "code",
      "source": [
        "import pandas as pd"
      ],
      "metadata": {
        "id": "OzifjMM5IJEP"
      },
      "execution_count": null,
      "outputs": []
    },
    {
      "cell_type": "code",
      "source": [
        "df = pd.read_csv(\"/content/drive/MyDrive/Mineria de datos/ranking.csv\")\n",
        "print(df)"
      ],
      "metadata": {
        "id": "S69YTSzc9YGz",
        "colab": {
          "base_uri": "https://localhost:8080/"
        },
        "outputId": "f43c6c0a-02b0-44f9-ec43-1691e57c11c2"
      },
      "execution_count": null,
      "outputs": [
        {
          "output_type": "stream",
          "name": "stdout",
          "text": [
            "           TEAM_ID  LEAGUE_ID  SEASON_ID STANDINGSDATE CONFERENCE  \\\n",
            "0       1610612743          0      22022    2022-12-22       West   \n",
            "1       1610612763          0      22022    2022-12-22       West   \n",
            "2       1610612740          0      22022    2022-12-22       West   \n",
            "3       1610612756          0      22022    2022-12-22       West   \n",
            "4       1610612746          0      22022    2022-12-22       West   \n",
            "...            ...        ...        ...           ...        ...   \n",
            "210337  1610612765          0      22013    2014-09-01       East   \n",
            "210338  1610612738          0      22013    2014-09-01       East   \n",
            "210339  1610612753          0      22013    2014-09-01       East   \n",
            "210340  1610612755          0      22013    2014-09-01       East   \n",
            "210341  1610612749          0      22013    2014-09-01       East   \n",
            "\n",
            "                TEAM   G   W   L  W_PCT HOME_RECORD ROAD_RECORD  RETURNTOPLAY  \n",
            "0             Denver  30  19  11  0.633        10-3         9-8           NaN  \n",
            "1            Memphis  30  19  11  0.633        13-2         6-9           NaN  \n",
            "2        New Orleans  31  19  12  0.613        13-4         6-8           NaN  \n",
            "3            Phoenix  32  19  13  0.594        14-4         5-9           NaN  \n",
            "4        LA Clippers  33  19  14  0.576        11-7         8-7           NaN  \n",
            "...              ...  ..  ..  ..    ...         ...         ...           ...  \n",
            "210337       Detroit  82  29  53  0.354       17-24       12-29           NaN  \n",
            "210338        Boston  82  25  57  0.305       16-25        9-32           NaN  \n",
            "210339       Orlando  82  23  59  0.280       19-22        4-37           NaN  \n",
            "210340  Philadelphia  82  19  63  0.232       10-31        9-32           NaN  \n",
            "210341     Milwaukee  82  15  67  0.183       10-31        5-36           NaN  \n",
            "\n",
            "[210342 rows x 13 columns]\n"
          ]
        }
      ]
    },
    {
      "cell_type": "code",
      "source": [
        "df_LIMP = pd.DataFrame.from_dict(df.loc[:,['TEAM_ID','SEASON_ID','STANDINGSDATE','CONFERENCE','TEAM'\n",
        ",'G','W','L','W_PCT','HOME_RECORD','ROAD_RECORD']])"
      ],
      "metadata": {
        "id": "EalCFy2MxzmY"
      },
      "execution_count": null,
      "outputs": []
    },
    {
      "cell_type": "code",
      "source": [
        "print(df_LIMP)"
      ],
      "metadata": {
        "colab": {
          "base_uri": "https://localhost:8080/"
        },
        "id": "7sucm0hozUo3",
        "outputId": "0bd2c169-3bb9-478b-e8d8-fb4fdd6fd6fb"
      },
      "execution_count": null,
      "outputs": [
        {
          "output_type": "stream",
          "name": "stdout",
          "text": [
            "           TEAM_ID  SEASON_ID STANDINGSDATE CONFERENCE          TEAM   G   W  \\\n",
            "0       1610612743      22022    2022-12-22       West        Denver  30  19   \n",
            "1       1610612763      22022    2022-12-22       West       Memphis  30  19   \n",
            "2       1610612740      22022    2022-12-22       West   New Orleans  31  19   \n",
            "3       1610612756      22022    2022-12-22       West       Phoenix  32  19   \n",
            "4       1610612746      22022    2022-12-22       West   LA Clippers  33  19   \n",
            "...            ...        ...           ...        ...           ...  ..  ..   \n",
            "210337  1610612765      22013    2014-09-01       East       Detroit  82  29   \n",
            "210338  1610612738      22013    2014-09-01       East        Boston  82  25   \n",
            "210339  1610612753      22013    2014-09-01       East       Orlando  82  23   \n",
            "210340  1610612755      22013    2014-09-01       East  Philadelphia  82  19   \n",
            "210341  1610612749      22013    2014-09-01       East     Milwaukee  82  15   \n",
            "\n",
            "         L  W_PCT HOME_RECORD ROAD_RECORD  \n",
            "0       11  0.633        10-3         9-8  \n",
            "1       11  0.633        13-2         6-9  \n",
            "2       12  0.613        13-4         6-8  \n",
            "3       13  0.594        14-4         5-9  \n",
            "4       14  0.576        11-7         8-7  \n",
            "...     ..    ...         ...         ...  \n",
            "210337  53  0.354       17-24       12-29  \n",
            "210338  57  0.305       16-25        9-32  \n",
            "210339  59  0.280       19-22        4-37  \n",
            "210340  63  0.232       10-31        9-32  \n",
            "210341  67  0.183       10-31        5-36  \n",
            "\n",
            "[210342 rows x 11 columns]\n"
          ]
        }
      ]
    },
    {
      "cell_type": "markdown",
      "source": [
        "# Estadistica Descriptiva"
      ],
      "metadata": {
        "id": "2xDR4H6H1g1S"
      }
    },
    {
      "cell_type": "code",
      "source": [
        "import pandas as pd"
      ],
      "metadata": {
        "id": "ReM0E7pmIWZh"
      },
      "execution_count": null,
      "outputs": []
    },
    {
      "cell_type": "code",
      "source": [
        "df = pd.read_csv(\"/content/drive/MyDrive/Mineria de datos/ranking.csv\")"
      ],
      "metadata": {
        "id": "0VMpETCSIhTO"
      },
      "execution_count": null,
      "outputs": []
    },
    {
      "cell_type": "code",
      "source": [
        "df_LIMP = pd.DataFrame.from_dict(df.loc[:,['TEAM_ID','SEASON_ID','STANDINGSDATE','CONFERENCE','TEAM'\n",
        ",'G','W','L','W_PCT','HOME_RECORD','ROAD_RECORD']])\n",
        "print(df_LIMP)"
      ],
      "metadata": {
        "colab": {
          "base_uri": "https://localhost:8080/"
        },
        "id": "p1DJQ2JCIlw4",
        "outputId": "8fa8ac48-9dcb-4d9c-a7c2-a1b8e923d244"
      },
      "execution_count": null,
      "outputs": [
        {
          "output_type": "stream",
          "name": "stdout",
          "text": [
            "           TEAM_ID  SEASON_ID STANDINGSDATE CONFERENCE          TEAM   G   W  \\\n",
            "0       1610612743      22022    2022-12-22       West        Denver  30  19   \n",
            "1       1610612763      22022    2022-12-22       West       Memphis  30  19   \n",
            "2       1610612740      22022    2022-12-22       West   New Orleans  31  19   \n",
            "3       1610612756      22022    2022-12-22       West       Phoenix  32  19   \n",
            "4       1610612746      22022    2022-12-22       West   LA Clippers  33  19   \n",
            "...            ...        ...           ...        ...           ...  ..  ..   \n",
            "210337  1610612765      22013    2014-09-01       East       Detroit  82  29   \n",
            "210338  1610612738      22013    2014-09-01       East        Boston  82  25   \n",
            "210339  1610612753      22013    2014-09-01       East       Orlando  82  23   \n",
            "210340  1610612755      22013    2014-09-01       East  Philadelphia  82  19   \n",
            "210341  1610612749      22013    2014-09-01       East     Milwaukee  82  15   \n",
            "\n",
            "         L  W_PCT HOME_RECORD ROAD_RECORD  \n",
            "0       11  0.633        10-3         9-8  \n",
            "1       11  0.633        13-2         6-9  \n",
            "2       12  0.613        13-4         6-8  \n",
            "3       13  0.594        14-4         5-9  \n",
            "4       14  0.576        11-7         8-7  \n",
            "...     ..    ...         ...         ...  \n",
            "210337  53  0.354       17-24       12-29  \n",
            "210338  57  0.305       16-25        9-32  \n",
            "210339  59  0.280       19-22        4-37  \n",
            "210340  63  0.232       10-31        9-32  \n",
            "210341  67  0.183       10-31        5-36  \n",
            "\n",
            "[210342 rows x 11 columns]\n"
          ]
        }
      ]
    },
    {
      "cell_type": "code",
      "source": [
        "#Se esta sacando el promedio de las Victorias\n",
        "mean_df = df_LIMP['W'].mean()\n",
        "print(mean_df)"
      ],
      "metadata": {
        "colab": {
          "base_uri": "https://localhost:8080/"
        },
        "id": "fGRXEnkJ2ujs",
        "outputId": "903a393d-f2b2-4160-850f-cc0bc2092e0b"
      },
      "execution_count": null,
      "outputs": [
        {
          "output_type": "stream",
          "name": "stdout",
          "text": [
            "28.333357104144678\n"
          ]
        }
      ]
    },
    {
      "cell_type": "code",
      "source": [
        "#Se esta sacando el promedio de las Derrotas\n",
        "mean_df = df_LIMP['L'].mean()\n",
        "print(mean_df)"
      ],
      "metadata": {
        "colab": {
          "base_uri": "https://localhost:8080/"
        },
        "id": "CHPuyf8Z2_3y",
        "outputId": "5229ab41-0272-432d-aa08-130c788fd41c"
      },
      "execution_count": null,
      "outputs": [
        {
          "output_type": "stream",
          "name": "stdout",
          "text": [
            "28.32637799393369\n"
          ]
        }
      ]
    },
    {
      "cell_type": "code",
      "source": [
        "#Se va a imprimir la media, mediana y moda de las Victorias"
      ],
      "metadata": {
        "id": "4xqZn11h4Q3z"
      },
      "execution_count": null,
      "outputs": []
    },
    {
      "cell_type": "code",
      "source": [
        "media = df['W'].mean()\n",
        "mediana = df['W'].median()\n",
        "moda = df['W'].mode()"
      ],
      "metadata": {
        "id": "-gqtiPT04Xsu"
      },
      "execution_count": null,
      "outputs": []
    },
    {
      "cell_type": "code",
      "source": [
        "print(\"\"\"Media Victorias: %d\n",
        "Mediana Victorias: %d\n",
        "Moda Victorias: %d\"\"\" % (media,mediana,moda))"
      ],
      "metadata": {
        "colab": {
          "base_uri": "https://localhost:8080/"
        },
        "id": "Fp6r4mu-4n1i",
        "outputId": "e67df982-f2b0-49f9-c4fd-e0cf9f16cc21"
      },
      "execution_count": null,
      "outputs": [
        {
          "output_type": "stream",
          "name": "stdout",
          "text": [
            "Media Victorias: 28\n",
            "Mediana Victorias: 28\n",
            "Moda Victorias: 0\n"
          ]
        }
      ]
    },
    {
      "cell_type": "code",
      "source": [
        "#Se va a imprimir la media, mediana y moda de las Derrotas"
      ],
      "metadata": {
        "id": "LX3tz55u5fsM"
      },
      "execution_count": null,
      "outputs": []
    },
    {
      "cell_type": "code",
      "source": [
        "media = df['L'].mean()\n",
        "mediana = df['L'].median()\n",
        "moda = df['L'].mode()"
      ],
      "metadata": {
        "id": "PK46_W1x5kCy"
      },
      "execution_count": null,
      "outputs": []
    },
    {
      "cell_type": "code",
      "source": [
        "print(\"\"\"Media Derrotas: %d\n",
        "Mediana Derrotas: %d\n",
        "Moda Derrotas: %d\"\"\" % (media,mediana,moda))"
      ],
      "metadata": {
        "colab": {
          "base_uri": "https://localhost:8080/"
        },
        "id": "RwxgArNW5ps5",
        "outputId": "107e0f3f-f908-4630-a0b6-914ca14fa089"
      },
      "execution_count": null,
      "outputs": [
        {
          "output_type": "stream",
          "name": "stdout",
          "text": [
            "Media Derrotas: 28\n",
            "Mediana Derrotas: 29\n",
            "Moda Derrotas: 0\n"
          ]
        }
      ]
    },
    {
      "cell_type": "markdown",
      "source": [
        "# Visualizacion de datos\n"
      ],
      "metadata": {
        "id": "C7lPo1F3BVdQ"
      }
    },
    {
      "cell_type": "code",
      "source": [
        "import matplotlib.pyplot as plt"
      ],
      "metadata": {
        "id": "6hSYUID3Bbbu"
      },
      "execution_count": null,
      "outputs": []
    },
    {
      "cell_type": "code",
      "source": [
        "df_LIMP = pd.DataFrame.from_dict(df.loc[:,['TEAM_ID','SEASON_ID','STANDINGSDATE','CONFERENCE','TEAM'\n",
        ",'G','W','L','W_PCT','HOME_RECORD','ROAD_RECORD']])\n",
        "print(df_LIMP)"
      ],
      "metadata": {
        "colab": {
          "base_uri": "https://localhost:8080/"
        },
        "id": "57Fqn3j1B6Qg",
        "outputId": "c908bc7a-e43e-4b47-901a-8296bd761c68"
      },
      "execution_count": null,
      "outputs": [
        {
          "output_type": "stream",
          "name": "stdout",
          "text": [
            "           TEAM_ID  SEASON_ID STANDINGSDATE CONFERENCE          TEAM   G   W  \\\n",
            "0       1610612743      22022    2022-12-22       West        Denver  30  19   \n",
            "1       1610612763      22022    2022-12-22       West       Memphis  30  19   \n",
            "2       1610612740      22022    2022-12-22       West   New Orleans  31  19   \n",
            "3       1610612756      22022    2022-12-22       West       Phoenix  32  19   \n",
            "4       1610612746      22022    2022-12-22       West   LA Clippers  33  19   \n",
            "...            ...        ...           ...        ...           ...  ..  ..   \n",
            "210337  1610612765      22013    2014-09-01       East       Detroit  82  29   \n",
            "210338  1610612738      22013    2014-09-01       East        Boston  82  25   \n",
            "210339  1610612753      22013    2014-09-01       East       Orlando  82  23   \n",
            "210340  1610612755      22013    2014-09-01       East  Philadelphia  82  19   \n",
            "210341  1610612749      22013    2014-09-01       East     Milwaukee  82  15   \n",
            "\n",
            "         L  W_PCT HOME_RECORD ROAD_RECORD  \n",
            "0       11  0.633        10-3         9-8  \n",
            "1       11  0.633        13-2         6-9  \n",
            "2       12  0.613        13-4         6-8  \n",
            "3       13  0.594        14-4         5-9  \n",
            "4       14  0.576        11-7         8-7  \n",
            "...     ..    ...         ...         ...  \n",
            "210337  53  0.354       17-24       12-29  \n",
            "210338  57  0.305       16-25        9-32  \n",
            "210339  59  0.280       19-22        4-37  \n",
            "210340  63  0.232       10-31        9-32  \n",
            "210341  67  0.183       10-31        5-36  \n",
            "\n",
            "[210342 rows x 11 columns]\n"
          ]
        }
      ]
    },
    {
      "cell_type": "code",
      "source": [
        "#Se graficara las Victorias de los Primeros 15 Equipos"
      ],
      "metadata": {
        "id": "yjcnMxtSCbmx"
      },
      "execution_count": null,
      "outputs": []
    },
    {
      "cell_type": "code",
      "source": [
        "df_LIMP_15= df_LIMP.head(15)\n",
        "print(df_LIMP_15)"
      ],
      "metadata": {
        "colab": {
          "base_uri": "https://localhost:8080/"
        },
        "id": "4NutIQfSHjvY",
        "outputId": "d608d55f-b401-4ab0-8f8c-50e82cf223fa"
      },
      "execution_count": null,
      "outputs": [
        {
          "output_type": "stream",
          "name": "stdout",
          "text": [
            "       TEAM_ID  SEASON_ID STANDINGSDATE CONFERENCE           TEAM   G   W   L  \\\n",
            "0   1610612743      22022    2022-12-22       West         Denver  30  19  11   \n",
            "1   1610612763      22022    2022-12-22       West        Memphis  30  19  11   \n",
            "2   1610612740      22022    2022-12-22       West    New Orleans  31  19  12   \n",
            "3   1610612756      22022    2022-12-22       West        Phoenix  32  19  13   \n",
            "4   1610612746      22022    2022-12-22       West    LA Clippers  33  19  14   \n",
            "5   1610612758      22022    2022-12-22       West     Sacramento  30  17  13   \n",
            "6   1610612762      22022    2022-12-22       West           Utah  35  19  16   \n",
            "7   1610612757      22022    2022-12-22       West       Portland  32  17  15   \n",
            "8   1610612742      22022    2022-12-22       West         Dallas  32  16  16   \n",
            "9   1610612750      22022    2022-12-22       West      Minnesota  32  16  16   \n",
            "10  1610612744      22022    2022-12-22       West   Golden State  33  15  18   \n",
            "11  1610612760      22022    2022-12-22       West  Oklahoma City  32  14  18   \n",
            "12  1610612747      22022    2022-12-22       West    L.A. Lakers  31  13  18   \n",
            "13  1610612759      22022    2022-12-22       West    San Antonio  31  10  21   \n",
            "14  1610612745      22022    2022-12-22       West        Houston  31   9  22   \n",
            "\n",
            "    W_PCT HOME_RECORD ROAD_RECORD  \n",
            "0   0.633        10-3         9-8  \n",
            "1   0.633        13-2         6-9  \n",
            "2   0.613        13-4         6-8  \n",
            "3   0.594        14-4         5-9  \n",
            "4   0.576        11-7         8-7  \n",
            "5   0.567         9-5         8-8  \n",
            "6   0.543        12-5        7-11  \n",
            "7   0.531         7-6        10-9  \n",
            "8   0.500        12-5        4-11  \n",
            "9   0.500         9-8         7-8  \n",
            "10  0.455        12-2        3-16  \n",
            "11  0.438         9-7        5-11  \n",
            "12  0.419         8-7        5-11  \n",
            "13  0.323        5-12         5-9  \n",
            "14  0.290         6-9        3-13  \n"
          ]
        }
      ]
    },
    {
      "cell_type": "code",
      "source": [
        "fig, ax = plt.subplots()\n",
        "\n",
        "x = df_LIMP_15['TEAM']\n",
        "y = df_LIMP_15['W']\n",
        "ax.bar(x,y)\n",
        "\n",
        "ax.set_xlabel(\"Equipos\")\n",
        "ax.set_ylabel(\"Victorias\")\n",
        "ax.set_title(\"Victorias de los Primero 15 Equipos\")\n",
        "\n",
        "plt.xticks(rotation=90)\n",
        "plt.show()"
      ],
      "metadata": {
        "colab": {
          "base_uri": "https://localhost:8080/",
          "height": 560
        },
        "id": "B5q5i4iJIBNV",
        "outputId": "742ba9d0-590f-4486-c4eb-f41009843292"
      },
      "execution_count": null,
      "outputs": [
        {
          "output_type": "display_data",
          "data": {
            "text/plain": [
              "<Figure size 640x480 with 1 Axes>"
            ],
            "image/png": "[encoded data removed]"
          },
          "metadata": {}
        }
      ]
    },
    {
      "cell_type": "code",
      "source": [
        "#Se graficara las Derrotas de los Primeros 15 Equipos"
      ],
      "metadata": {
        "id": "i2Zm-hX9JzaY"
      },
      "execution_count": null,
      "outputs": []
    },
    {
      "cell_type": "code",
      "source": [
        "fig, ax = plt.subplots()\n",
        "\n",
        "x = df_LIMP_15['TEAM']\n",
        "y = df_LIMP_15['L']\n",
        "ax.bar(x,y)\n",
        "\n",
        "ax.set_xlabel(\"Equipos\")\n",
        "ax.set_ylabel(\"Derrotas\")\n",
        "ax.set_title(\"Derrotas de los Primero 15 Equipos\")\n",
        "\n",
        "plt.xticks(rotation=90)\n",
        "plt.show()\n"
      ],
      "metadata": {
        "colab": {
          "base_uri": "https://localhost:8080/",
          "height": 560
        },
        "id": "Axg1rlTgJmuF",
        "outputId": "a593abc3-c828-401b-a9be-40c953787c5a"
      },
      "execution_count": null,
      "outputs": [
        {
          "output_type": "display_data",
          "data": {
            "text/plain": [
              "<Figure size 640x480 with 1 Axes>"
            ],
            "image/png": "[encoded data removed]"
          },
          "metadata": {}
        }
      ]
    },
    {
      "cell_type": "markdown",
      "source": [
        "# Prueba estadistica"
      ],
      "metadata": {
        "id": "xruKBRqwKcfn"
      }
    },
    {
      "cell_type": "code",
      "source": [
        "import plotly.graph_objects as go\n"
      ],
      "metadata": {
        "id": "xSKYfcBzKunT"
      },
      "execution_count": null,
      "outputs": []
    },
    {
      "cell_type": "code",
      "source": [
        "df = pd.read_csv(\"/content/drive/MyDrive/Mineria de datos/ranking.csv\")"
      ],
      "metadata": {
        "id": "kEEHRRZsMbzk"
      },
      "execution_count": null,
      "outputs": []
    },
    {
      "cell_type": "code",
      "source": [
        "df_LIMP = pd.DataFrame.from_dict(df.loc[:,['TEAM_ID','SEASON_ID','STANDINGSDATE','CONFERENCE','TEAM'\n",
        ",'G','W','L','W_PCT','HOME_RECORD','ROAD_RECORD']])\n",
        "print(df_LIMP)"
      ],
      "metadata": {
        "colab": {
          "base_uri": "https://localhost:8080/"
        },
        "id": "2KdV434zMyI1",
        "outputId": "02a6ffe9-7146-4dd9-f93c-20f26ccae757"
      },
      "execution_count": null,
      "outputs": [
        {
          "output_type": "stream",
          "name": "stdout",
          "text": [
            "           TEAM_ID  SEASON_ID STANDINGSDATE CONFERENCE          TEAM   G   W  \\\n",
            "0       1610612743      22022    2022-12-22       West        Denver  30  19   \n",
            "1       1610612763      22022    2022-12-22       West       Memphis  30  19   \n",
            "2       1610612740      22022    2022-12-22       West   New Orleans  31  19   \n",
            "3       1610612756      22022    2022-12-22       West       Phoenix  32  19   \n",
            "4       1610612746      22022    2022-12-22       West   LA Clippers  33  19   \n",
            "...            ...        ...           ...        ...           ...  ..  ..   \n",
            "210337  1610612765      22013    2014-09-01       East       Detroit  82  29   \n",
            "210338  1610612738      22013    2014-09-01       East        Boston  82  25   \n",
            "210339  1610612753      22013    2014-09-01       East       Orlando  82  23   \n",
            "210340  1610612755      22013    2014-09-01       East  Philadelphia  82  19   \n",
            "210341  1610612749      22013    2014-09-01       East     Milwaukee  82  15   \n",
            "\n",
            "         L  W_PCT HOME_RECORD ROAD_RECORD  \n",
            "0       11  0.633        10-3         9-8  \n",
            "1       11  0.633        13-2         6-9  \n",
            "2       12  0.613        13-4         6-8  \n",
            "3       13  0.594        14-4         5-9  \n",
            "4       14  0.576        11-7         8-7  \n",
            "...     ..    ...         ...         ...  \n",
            "210337  53  0.354       17-24       12-29  \n",
            "210338  57  0.305       16-25        9-32  \n",
            "210339  59  0.280       19-22        4-37  \n",
            "210340  63  0.232       10-31        9-32  \n",
            "210341  67  0.183       10-31        5-36  \n",
            "\n",
            "[210342 rows x 11 columns]\n"
          ]
        }
      ]
    },
    {
      "cell_type": "code",
      "source": [
        "df_LIMP_15= df_LIMP.head(15)\n",
        "print(df_LIMP_15)"
      ],
      "metadata": {
        "colab": {
          "base_uri": "https://localhost:8080/"
        },
        "id": "-NzhuPwMVcLA",
        "outputId": "925ad959-6a3e-416b-86c8-f959fd7e2364"
      },
      "execution_count": null,
      "outputs": [
        {
          "output_type": "stream",
          "name": "stdout",
          "text": [
            "       TEAM_ID  SEASON_ID STANDINGSDATE CONFERENCE           TEAM   G   W   L  \\\n",
            "0   1610612743      22022    2022-12-22       West         Denver  30  19  11   \n",
            "1   1610612763      22022    2022-12-22       West        Memphis  30  19  11   \n",
            "2   1610612740      22022    2022-12-22       West    New Orleans  31  19  12   \n",
            "3   1610612756      22022    2022-12-22       West        Phoenix  32  19  13   \n",
            "4   1610612746      22022    2022-12-22       West    LA Clippers  33  19  14   \n",
            "5   1610612758      22022    2022-12-22       West     Sacramento  30  17  13   \n",
            "6   1610612762      22022    2022-12-22       West           Utah  35  19  16   \n",
            "7   1610612757      22022    2022-12-22       West       Portland  32  17  15   \n",
            "8   1610612742      22022    2022-12-22       West         Dallas  32  16  16   \n",
            "9   1610612750      22022    2022-12-22       West      Minnesota  32  16  16   \n",
            "10  1610612744      22022    2022-12-22       West   Golden State  33  15  18   \n",
            "11  1610612760      22022    2022-12-22       West  Oklahoma City  32  14  18   \n",
            "12  1610612747      22022    2022-12-22       West    L.A. Lakers  31  13  18   \n",
            "13  1610612759      22022    2022-12-22       West    San Antonio  31  10  21   \n",
            "14  1610612745      22022    2022-12-22       West        Houston  31   9  22   \n",
            "\n",
            "    W_PCT HOME_RECORD ROAD_RECORD  \n",
            "0   0.633        10-3         9-8  \n",
            "1   0.633        13-2         6-9  \n",
            "2   0.613        13-4         6-8  \n",
            "3   0.594        14-4         5-9  \n",
            "4   0.576        11-7         8-7  \n",
            "5   0.567         9-5         8-8  \n",
            "6   0.543        12-5        7-11  \n",
            "7   0.531         7-6        10-9  \n",
            "8   0.500        12-5        4-11  \n",
            "9   0.500         9-8         7-8  \n",
            "10  0.455        12-2        3-16  \n",
            "11  0.438         9-7        5-11  \n",
            "12  0.419         8-7        5-11  \n",
            "13  0.323        5-12         5-9  \n",
            "14  0.290         6-9        3-13  \n"
          ]
        }
      ]
    },
    {
      "cell_type": "code",
      "source": [
        "fig = go.Figure()"
      ],
      "metadata": {
        "id": "ukbDTPW4M5Ib"
      },
      "execution_count": null,
      "outputs": []
    },
    {
      "cell_type": "code",
      "source": [
        "fig.add_trace(go.Box(y=df_LIMP_15['W_PCT'],name='Porcentaje de victorias'))\n",
        "fig.add_trace(go.Box(x=df_LIMP_15.W,name=\"Victorias\"))\n",
        "fig.update_layout(\n",
        "    title={\n",
        "        'text':\"Porcentaje de Victorias\",\n",
        "        'y':0.9,\n",
        "        'x':0.5,\n",
        "        'xanchor': 'center',\n",
        "        'yanchor': 'top'\n",
        "        }\n",
        ")\n",
        "fig.show()"
      ],
      "metadata": {
        "colab": {
          "base_uri": "https://localhost:8080/",
          "height": 542
        },
        "id": "kW20j-Suakjz",
        "outputId": "3bd7df6a-28b5-410f-8495-36292717e771"
      },
      "execution_count": null,
      "outputs": [
        {
          "output_type": "display_data",
          "data": {
            "text/html": [
              "<html>\n",
              "<head><meta charset=\"utf-8\" /></head>\n",
              "<body>\n",
              "    <div>            <script src=\"https://cdnjs.cloudflare.com/ajax/libs/mathjax/2.7.5/MathJax.js?config=TeX-AMS-MML_SVG\"></script><script type=\"text/javascript\">if (window.MathJax && window.MathJax.Hub && window.MathJax.Hub.Config) {window.MathJax.Hub.Config({SVG: {font: \"STIX-Web\"}});}</script>                <script type=\"text/javascript\">window.PlotlyConfig = {MathJaxConfig: 'local'};</script>\n",
              "        <script src=\"https://cdn.plot.ly/plotly-2.18.2.min.js\"></script>                <div id=\"4a35676a-1343-412c-8350-720f71337144\" class=\"plotly-graph-div\" style=\"height:525px; width:100%;\"></div>            <script type=\"text/javascript\">                                    window.PLOTLYENV=window.PLOTLYENV || {};                                    if (document.getElementById(\"4a35676a-1343-412c-8350-720f71337144\")) {                    Plotly.newPlot(                        \"4a35676a-1343-412c-8350-720f71337144\",                        [{\"name\":\"Porcentaje de victorias\",\"y\":[0.633,0.633,0.613,0.594,0.576,0.567,0.543,0.531,0.5,0.5,0.455,0.438,0.419,0.323,0.29],\"type\":\"box\"},{\"name\":\"Victorias\",\"x\":[19,19,19,19,19,17,19,17,16,16,15,14,13,10,9],\"type\":\"box\"}],                        {\"template\":{\"data\":{\"histogram2dcontour\":[{\"type\":\"histogram2dcontour\",\"colorbar\":{\"outlinewidth\":0,\"ticks\":\"\"},\"colorscale\":[[0.0,\"#0d0887\"],[0.1111111111111111,\"#46039f\"],[0.2222222222222222,\"#7201a8\"],[0.3333333333333333,\"#9c179e\"],[0.4444444444444444,\"#bd3786\"],[0.5555555555555556,\"#d8576b\"],[0.6666666666666666,\"#ed7953\"],[0.7777777777777778,\"#fb9f3a\"],[0.8888888888888888,\"#fdca26\"],[1.0,\"#f0f921\"]]}],\"choropleth\":[{\"type\":\"choropleth\",\"colorbar\":{\"outlinewidth\":0,\"ticks\":\"\"}}],\"histogram2d\":[{\"type\":\"histogram2d\",\"colorbar\":{\"outlinewidth\":0,\"ticks\":\"\"},\"colorscale\":[[0.0,\"#0d0887\"],[0.1111111111111111,\"#46039f\"],[0.2222222222222222,\"#7201a8\"],[0.3333333333333333,\"#9c179e\"],[0.4444444444444444,\"#bd3786\"],[0.5555555555555556,\"#d8576b\"],[0.6666666666666666,\"#ed7953\"],[0.7777777777777778,\"#fb9f3a\"],[0.8888888888888888,\"#fdca26\"],[1.0,\"#f0f921\"]]}],\"heatmap\":[{\"type\":\"heatmap\",\"colorbar\":{\"outlinewidth\":0,\"ticks\":\"\"},\"colorscale\":[[0.0,\"#0d0887\"],[0.1111111111111111,\"#46039f\"],[0.2222222222222222,\"#7201a8\"],[0.3333333333333333,\"#9c179e\"],[0.4444444444444444,\"#bd3786\"],[0.5555555555555556,\"#d8576b\"],[0.6666666666666666,\"#ed7953\"],[0.7777777777777778,\"#fb9f3a\"],[0.8888888888888888,\"#fdca26\"],[1.0,\"#f0f921\"]]}],\"heatmapgl\":[{\"type\":\"heatmapgl\",\"colorbar\":{\"outlinewidth\":0,\"ticks\":\"\"},\"colorscale\":[[0.0,\"#0d0887\"],[0.1111111111111111,\"#46039f\"],[0.2222222222222222,\"#7201a8\"],[0.3333333333333333,\"#9c179e\"],[0.4444444444444444,\"#bd3786\"],[0.5555555555555556,\"#d8576b\"],[0.6666666666666666,\"#ed7953\"],[0.7777777777777778,\"#fb9f3a\"],[0.8888888888888888,\"#fdca26\"],[1.0,\"#f0f921\"]]}],\"contourcarpet\":[{\"type\":\"contourcarpet\",\"colorbar\":{\"outlinewidth\":0,\"ticks\":\"\"}}],\"contour\":[{\"type\":\"contour\",\"colorbar\":{\"outlinewidth\":0,\"ticks\":\"\"},\"colorscale\":[[0.0,\"#0d0887\"],[0.1111111111111111,\"#46039f\"],[0.2222222222222222,\"#7201a8\"],[0.3333333333333333,\"#9c179e\"],[0.4444444444444444,\"#bd3786\"],[0.5555555555555556,\"#d8576b\"],[0.6666666666666666,\"#ed7953\"],[0.7777777777777778,\"#fb9f3a\"],[0.8888888888888888,\"#fdca26\"],[1.0,\"#f0f921\"]]}],\"surface\":[{\"type\":\"surface\",\"colorbar\":{\"outlinewidth\":0,\"ticks\":\"\"},\"colorscale\":[[0.0,\"#0d0887\"],[0.1111111111111111,\"#46039f\"],[0.2222222222222222,\"#7201a8\"],[0.3333333333333333,\"#9c179e\"],[0.4444444444444444,\"#bd3786\"],[0.5555555555555556,\"#d8576b\"],[0.6666666666666666,\"#ed7953\"],[0.7777777777777778,\"#fb9f3a\"],[0.8888888888888888,\"#fdca26\"],[1.0,\"#f0f921\"]]}],\"mesh3d\":[{\"type\":\"mesh3d\",\"colorbar\":{\"outlinewidth\":0,\"ticks\":\"\"}}],\"scatter\":[{\"fillpattern\":{\"fillmode\":\"overlay\",\"size\":10,\"solidity\":0.2},\"type\":\"scatter\"}],\"parcoords\":[{\"type\":\"parcoords\",\"line\":{\"colorbar\":{\"outlinewidth\":0,\"ticks\":\"\"}}}],\"scatterpolargl\":[{\"type\":\"scatterpolargl\",\"marker\":{\"colorbar\":{\"outlinewidth\":0,\"ticks\":\"\"}}}],\"bar\":[{\"error_x\":{\"color\":\"#2a3f5f\"},\"error_y\":{\"color\":\"#2a3f5f\"},\"marker\":{\"line\":{\"color\":\"#E5ECF6\",\"width\":0.5},\"pattern\":{\"fillmode\":\"overlay\",\"size\":10,\"solidity\":0.2}},\"type\":\"bar\"}],\"scattergeo\":[{\"type\":\"scattergeo\",\"marker\":{\"colorbar\":{\"outlinewidth\":0,\"ticks\":\"\"}}}],\"scatterpolar\":[{\"type\":\"scatterpolar\",\"marker\":{\"colorbar\":{\"outlinewidth\":0,\"ticks\":\"\"}}}],\"histogram\":[{\"marker\":{\"pattern\":{\"fillmode\":\"overlay\",\"size\":10,\"solidity\":0.2}},\"type\":\"histogram\"}],\"scattergl\":[{\"type\":\"scattergl\",\"marker\":{\"colorbar\":{\"outlinewidth\":0,\"ticks\":\"\"}}}],\"scatter3d\":[{\"type\":\"scatter3d\",\"line\":{\"colorbar\":{\"outlinewidth\":0,\"ticks\":\"\"}},\"marker\":{\"colorbar\":{\"outlinewidth\":0,\"ticks\":\"\"}}}],\"scattermapbox\":[{\"type\":\"scattermapbox\",\"marker\":{\"colorbar\":{\"outlinewidth\":0,\"ticks\":\"\"}}}],\"scatterternary\":[{\"type\":\"scatterternary\",\"marker\":{\"colorbar\":{\"outlinewidth\":0,\"ticks\":\"\"}}}],\"scattercarpet\":[{\"type\":\"scattercarpet\",\"marker\":{\"colorbar\":{\"outlinewidth\":0,\"ticks\":\"\"}}}],\"carpet\":[{\"aaxis\":{\"endlinecolor\":\"#2a3f5f\",\"gridcolor\":\"white\",\"linecolor\":\"white\",\"minorgridcolor\":\"white\",\"startlinecolor\":\"#2a3f5f\"},\"baxis\":{\"endlinecolor\":\"#2a3f5f\",\"gridcolor\":\"white\",\"linecolor\":\"white\",\"minorgridcolor\":\"white\",\"startlinecolor\":\"#2a3f5f\"},\"type\":\"carpet\"}],\"table\":[{\"cells\":{\"fill\":{\"color\":\"#EBF0F8\"},\"line\":{\"color\":\"white\"}},\"header\":{\"fill\":{\"color\":\"#C8D4E3\"},\"line\":{\"color\":\"white\"}},\"type\":\"table\"}],\"barpolar\":[{\"marker\":{\"line\":{\"color\":\"#E5ECF6\",\"width\":0.5},\"pattern\":{\"fillmode\":\"overlay\",\"size\":10,\"solidity\":0.2}},\"type\":\"barpolar\"}],\"pie\":[{\"automargin\":true,\"type\":\"pie\"}]},\"layout\":{\"autotypenumbers\":\"strict\",\"colorway\":[\"#636efa\",\"#EF553B\",\"#00cc96\",\"#ab63fa\",\"#FFA15A\",\"#19d3f3\",\"#FF6692\",\"#B6E880\",\"#FF97FF\",\"#FECB52\"],\"font\":{\"color\":\"#2a3f5f\"},\"hovermode\":\"closest\",\"hoverlabel\":{\"align\":\"left\"},\"paper_bgcolor\":\"white\",\"plot_bgcolor\":\"#E5ECF6\",\"polar\":{\"bgcolor\":\"#E5ECF6\",\"angularaxis\":{\"gridcolor\":\"white\",\"linecolor\":\"white\",\"ticks\":\"\"},\"radialaxis\":{\"gridcolor\":\"white\",\"linecolor\":\"white\",\"ticks\":\"\"}},\"ternary\":{\"bgcolor\":\"#E5ECF6\",\"aaxis\":{\"gridcolor\":\"white\",\"linecolor\":\"white\",\"ticks\":\"\"},\"baxis\":{\"gridcolor\":\"white\",\"linecolor\":\"white\",\"ticks\":\"\"},\"caxis\":{\"gridcolor\":\"white\",\"linecolor\":\"white\",\"ticks\":\"\"}},\"coloraxis\":{\"colorbar\":{\"outlinewidth\":0,\"ticks\":\"\"}},\"colorscale\":{\"sequential\":[[0.0,\"#0d0887\"],[0.1111111111111111,\"#46039f\"],[0.2222222222222222,\"#7201a8\"],[0.3333333333333333,\"#9c179e\"],[0.4444444444444444,\"#bd3786\"],[0.5555555555555556,\"#d8576b\"],[0.6666666666666666,\"#ed7953\"],[0.7777777777777778,\"#fb9f3a\"],[0.8888888888888888,\"#fdca26\"],[1.0,\"#f0f921\"]],\"sequentialminus\":[[0.0,\"#0d0887\"],[0.1111111111111111,\"#46039f\"],[0.2222222222222222,\"#7201a8\"],[0.3333333333333333,\"#9c179e\"],[0.4444444444444444,\"#bd3786\"],[0.5555555555555556,\"#d8576b\"],[0.6666666666666666,\"#ed7953\"],[0.7777777777777778,\"#fb9f3a\"],[0.8888888888888888,\"#fdca26\"],[1.0,\"#f0f921\"]],\"diverging\":[[0,\"#8e0152\"],[0.1,\"#c51b7d\"],[0.2,\"#de77ae\"],[0.3,\"#f1b6da\"],[0.4,\"#fde0ef\"],[0.5,\"#f7f7f7\"],[0.6,\"#e6f5d0\"],[0.7,\"#b8e186\"],[0.8,\"#7fbc41\"],[0.9,\"#4d9221\"],[1,\"#276419\"]]},\"xaxis\":{\"gridcolor\":\"white\",\"linecolor\":\"white\",\"ticks\":\"\",\"title\":{\"standoff\":15},\"zerolinecolor\":\"white\",\"automargin\":true,\"zerolinewidth\":2},\"yaxis\":{\"gridcolor\":\"white\",\"linecolor\":\"white\",\"ticks\":\"\",\"title\":{\"standoff\":15},\"zerolinecolor\":\"white\",\"automargin\":true,\"zerolinewidth\":2},\"scene\":{\"xaxis\":{\"backgroundcolor\":\"#E5ECF6\",\"gridcolor\":\"white\",\"linecolor\":\"white\",\"showbackground\":true,\"ticks\":\"\",\"zerolinecolor\":\"white\",\"gridwidth\":2},\"yaxis\":{\"backgroundcolor\":\"#E5ECF6\",\"gridcolor\":\"white\",\"linecolor\":\"white\",\"showbackground\":true,\"ticks\":\"\",\"zerolinecolor\":\"white\",\"gridwidth\":2},\"zaxis\":{\"backgroundcolor\":\"#E5ECF6\",\"gridcolor\":\"white\",\"linecolor\":\"white\",\"showbackground\":true,\"ticks\":\"\",\"zerolinecolor\":\"white\",\"gridwidth\":2}},\"shapedefaults\":{\"line\":{\"color\":\"#2a3f5f\"}},\"annotationdefaults\":{\"arrowcolor\":\"#2a3f5f\",\"arrowhead\":0,\"arrowwidth\":1},\"geo\":{\"bgcolor\":\"white\",\"landcolor\":\"#E5ECF6\",\"subunitcolor\":\"white\",\"showland\":true,\"showlakes\":true,\"lakecolor\":\"white\"},\"title\":{\"x\":0.05},\"mapbox\":{\"style\":\"light\"}}},\"title\":{\"text\":\"Porcentaje de Victorias\",\"y\":0.9,\"x\":0.5,\"xanchor\":\"center\",\"yanchor\":\"top\"}},                        {\"responsive\": true}                    ).then(function(){\n",
              "                            \n",
              "var gd = document.getElementById('4a35676a-1343-412c-8350-720f71337144');\n",
              "var x = new MutationObserver(function (mutations, observer) {{\n",
              "        var display = window.getComputedStyle(gd).display;\n",
              "        if (!display || display === 'none') {{\n",
              "            console.log([gd, 'removed!']);\n",
              "            Plotly.purge(gd);\n",
              "            observer.disconnect();\n",
              "        }}\n",
              "}});\n",
              "\n",
              "// Listen for the removal of the full notebook cells\n",
              "var notebookContainer = gd.closest('#notebook-container');\n",
              "if (notebookContainer) {{\n",
              "    x.observe(notebookContainer, {childList: true});\n",
              "}}\n",
              "\n",
              "// Listen for the clearing of the current output cell\n",
              "var outputEl = gd.closest('.output');\n",
              "if (outputEl) {{\n",
              "    x.observe(outputEl, {childList: true});\n",
              "}}\n",
              "\n",
              "                        })                };                            </script>        </div>\n",
              "</body>\n",
              "</html>"
            ]
          },
          "metadata": {}
        }
      ]
    },
    {
      "cell_type": "markdown",
      "source": [
        "# Modelos lineales"
      ],
      "metadata": {
        "id": "cwpJIGS2byhB"
      }
    },
    {
      "cell_type": "code",
      "source": [
        "import matplotlib.pyplot as plt\n",
        "import statsmodels.api as sm\n",
        "import numbers\n",
        "import pandas as pd\n",
        "from tabulate import tabulate"
      ],
      "metadata": {
        "id": "JuEDv6nWwdqQ"
      },
      "execution_count": null,
      "outputs": []
    },
    {
      "cell_type": "code",
      "source": [
        "def print_tabulate(df: pd.DataFrame):\n",
        "    print(tabulate(df, headers=df.columns, tablefmt=\"orgtbl\"))"
      ],
      "metadata": {
        "id": "PORTvUcXwqhT"
      },
      "execution_count": null,
      "outputs": []
    },
    {
      "cell_type": "code",
      "source": [
        "def transform_variable(df: pd.DataFrame, x:str)->pd.Series:\n",
        "    if isinstance(df[x][0], numbers.Number):\n",
        "        return df[x] # type: pd.Series\n",
        "    else:\n",
        "        return pd.Series([i for i in range(0, len(df[x]))])"
      ],
      "metadata": {
        "id": "M6MmQTK_wuHD"
      },
      "execution_count": null,
      "outputs": []
    },
    {
      "cell_type": "code",
      "source": [
        "def linear_regression(df: pd.DataFrame, x:str, y: str)->None:\n",
        "    fixed_x = transform_variable(df, x)\n",
        "    model= sm.OLS(df[y],sm.add_constant(fixed_x)).fit()\n",
        "    print(model.summary())\n",
        "\n",
        "    coef = pd.read_html(model.summary().tables[1].as_html(),header=0,index_col=0)[0]['coef']\n",
        "    df.plot(x=x,y=y, kind='scatter')\n",
        "    plt.plot(df[x],[pd.DataFrame.mean(df[y]) for _ in fixed_x.items()], color='green')\n",
        "    plt.plot(df[x],[ coef.values[1] * x + coef.values[0] for _, x in fixed_x.items()], color='red')\n",
        "    plt.xticks(rotation=90)\n",
        "    plt.savefig('regresion.png')\n",
        "    plt.close()\n"
      ],
      "metadata": {
        "id": "diXIuDNDwx34"
      },
      "execution_count": null,
      "outputs": []
    },
    {
      "cell_type": "code",
      "source": [
        "df = pd.read_csv(\"/content/drive/MyDrive/Mineria de datos/ranking.csv\")"
      ],
      "metadata": {
        "id": "CcO7Wsd-zcbn"
      },
      "execution_count": null,
      "outputs": []
    },
    {
      "cell_type": "code",
      "source": [
        "df_LIMP = pd.DataFrame.from_dict(df.loc[:,['TEAM_ID','SEASON_ID','STANDINGSDATE','CONFERENCE','TEAM'\n",
        ",'G','W','L','W_PCT','HOME_RECORD','ROAD_RECORD']])\n"
      ],
      "metadata": {
        "id": "C6q7aQLoz-D6"
      },
      "execution_count": null,
      "outputs": []
    },
    {
      "cell_type": "code",
      "source": [
        "print_tabulate(df_LIMP.head(50))"
      ],
      "metadata": {
        "colab": {
          "base_uri": "https://localhost:8080/"
        },
        "id": "rLDj7PZO0Icp",
        "outputId": "4655d131-5966-4279-b393-ccdc36237e8a"
      },
      "execution_count": null,
      "outputs": [
        {
          "output_type": "stream",
          "name": "stdout",
          "text": [
            "|    |    TEAM_ID |   SEASON_ID | STANDINGSDATE   | CONFERENCE   | TEAM          |   G |   W |   L |   W_PCT | HOME_RECORD   | ROAD_RECORD   |\n",
            "|----+------------+-------------+-----------------+--------------+---------------+-----+-----+-----+---------+---------------+---------------|\n",
            "|  0 | 1610612743 |       22022 | 2022-12-22      | West         | Denver        |  30 |  19 |  11 |   0.633 | 10-3          | 9-8           |\n",
            "|  1 | 1610612763 |       22022 | 2022-12-22      | West         | Memphis       |  30 |  19 |  11 |   0.633 | 13-2          | 6-9           |\n",
            "|  2 | 1610612740 |       22022 | 2022-12-22      | West         | New Orleans   |  31 |  19 |  12 |   0.613 | 13-4          | 6-8           |\n",
            "|  3 | 1610612756 |       22022 | 2022-12-22      | West         | Phoenix       |  32 |  19 |  13 |   0.594 | 14-4          | 5-9           |\n",
            "|  4 | 1610612746 |       22022 | 2022-12-22      | West         | LA Clippers   |  33 |  19 |  14 |   0.576 | 11-7          | 8-7           |\n",
            "|  5 | 1610612758 |       22022 | 2022-12-22      | West         | Sacramento    |  30 |  17 |  13 |   0.567 | 9-5           | 8-8           |\n",
            "|  6 | 1610612762 |       22022 | 2022-12-22      | West         | Utah          |  35 |  19 |  16 |   0.543 | 12-5          | 7-11          |\n",
            "|  7 | 1610612757 |       22022 | 2022-12-22      | West         | Portland      |  32 |  17 |  15 |   0.531 | 7-6           | 10-9          |\n",
            "|  8 | 1610612742 |       22022 | 2022-12-22      | West         | Dallas        |  32 |  16 |  16 |   0.5   | 12-5          | 4-11          |\n",
            "|  9 | 1610612750 |       22022 | 2022-12-22      | West         | Minnesota     |  32 |  16 |  16 |   0.5   | 9-8           | 7-8           |\n",
            "| 10 | 1610612744 |       22022 | 2022-12-22      | West         | Golden State  |  33 |  15 |  18 |   0.455 | 12-2          | 3-16          |\n",
            "| 11 | 1610612760 |       22022 | 2022-12-22      | West         | Oklahoma City |  32 |  14 |  18 |   0.438 | 9-7           | 5-11          |\n",
            "| 12 | 1610612747 |       22022 | 2022-12-22      | West         | L.A. Lakers   |  31 |  13 |  18 |   0.419 | 8-7           | 5-11          |\n",
            "| 13 | 1610612759 |       22022 | 2022-12-22      | West         | San Antonio   |  31 |  10 |  21 |   0.323 | 5-12          | 5-9           |\n",
            "| 14 | 1610612745 |       22022 | 2022-12-22      | West         | Houston       |  31 |   9 |  22 |   0.29  | 6-9           | 3-13          |\n",
            "| 15 | 1610612743 |       22022 | 2022-12-21      | West         | Denver        |  30 |  19 |  11 |   0.633 | 10-3          | 9-8           |\n",
            "| 16 | 1610612763 |       22022 | 2022-12-21      | West         | Memphis       |  30 |  19 |  11 |   0.633 | 13-2          | 6-9           |\n",
            "| 17 | 1610612740 |       22022 | 2022-12-21      | West         | New Orleans   |  30 |  18 |  12 |   0.6   | 12-4          | 6-8           |\n",
            "| 18 | 1610612756 |       22022 | 2022-12-21      | West         | Phoenix       |  32 |  19 |  13 |   0.594 | 14-4          | 5-9           |\n",
            "| 19 | 1610612746 |       22022 | 2022-12-21      | West         | LA Clippers   |  33 |  19 |  14 |   0.576 | 11-7          | 8-7           |\n",
            "| 20 | 1610612758 |       22022 | 2022-12-21      | West         | Sacramento    |  30 |  17 |  13 |   0.567 | 9-5           | 8-8           |\n",
            "| 21 | 1610612757 |       22022 | 2022-12-21      | West         | Portland      |  32 |  17 |  15 |   0.531 | 7-6           | 10-9          |\n",
            "| 22 | 1610612762 |       22022 | 2022-12-21      | West         | Utah          |  34 |  18 |  16 |   0.529 | 11-5          | 7-11          |\n",
            "| 23 | 1610612742 |       22022 | 2022-12-21      | West         | Dallas        |  32 |  16 |  16 |   0.5   | 12-5          | 4-11          |\n",
            "| 24 | 1610612750 |       22022 | 2022-12-21      | West         | Minnesota     |  32 |  16 |  16 |   0.5   | 9-8           | 7-8           |\n",
            "| 25 | 1610612744 |       22022 | 2022-12-21      | West         | Golden State  |  33 |  15 |  18 |   0.455 | 12-2          | 3-16          |\n",
            "| 26 | 1610612760 |       22022 | 2022-12-21      | West         | Oklahoma City |  32 |  14 |  18 |   0.438 | 9-7           | 5-11          |\n",
            "| 27 | 1610612747 |       22022 | 2022-12-21      | West         | L.A. Lakers   |  31 |  13 |  18 |   0.419 | 8-7           | 5-11          |\n",
            "| 28 | 1610612759 |       22022 | 2022-12-21      | West         | San Antonio   |  30 |  10 |  20 |   0.333 | 5-12          | 5-8           |\n",
            "| 29 | 1610612745 |       22022 | 2022-12-21      | West         | Houston       |  31 |   9 |  22 |   0.29  | 6-9           | 3-13          |\n",
            "| 30 | 1610612743 |       22022 | 2022-12-20      | West         | Denver        |  30 |  19 |  11 |   0.633 | 10-3          | 9-8           |\n",
            "| 31 | 1610612763 |       22022 | 2022-12-20      | West         | Memphis       |  30 |  19 |  11 |   0.633 | 13-2          | 6-9           |\n",
            "| 32 | 1610612740 |       22022 | 2022-12-20      | West         | New Orleans   |  30 |  18 |  12 |   0.6   | 12-4          | 6-8           |\n",
            "| 33 | 1610612756 |       22022 | 2022-12-20      | West         | Phoenix       |  32 |  19 |  13 |   0.594 | 14-4          | 5-9           |\n",
            "| 34 | 1610612746 |       22022 | 2022-12-20      | West         | LA Clippers   |  32 |  18 |  14 |   0.563 | 10-7          | 8-7           |\n",
            "| 35 | 1610612758 |       22022 | 2022-12-20      | West         | Sacramento    |  29 |  16 |  13 |   0.552 | 8-5           | 8-8           |\n",
            "| 36 | 1610612757 |       22022 | 2022-12-20      | West         | Portland      |  31 |  17 |  14 |   0.548 | 7-6           | 10-8          |\n",
            "| 37 | 1610612762 |       22022 | 2022-12-20      | West         | Utah          |  34 |  18 |  16 |   0.529 | 11-5          | 7-11          |\n",
            "| 38 | 1610612750 |       22022 | 2022-12-20      | West         | Minnesota     |  31 |  16 |  15 |   0.516 | 9-7           | 7-8           |\n",
            "| 39 | 1610612742 |       22022 | 2022-12-20      | West         | Dallas        |  31 |  15 |  16 |   0.484 | 12-5          | 3-11          |\n",
            "| 40 | 1610612744 |       22022 | 2022-12-20      | West         | Golden State  |  32 |  15 |  17 |   0.469 | 12-2          | 3-15          |\n",
            "| 41 | 1610612747 |       22022 | 2022-12-20      | West         | L.A. Lakers   |  30 |  13 |  17 |   0.433 | 8-7           | 5-10          |\n",
            "| 42 | 1610612760 |       22022 | 2022-12-20      | West         | Oklahoma City |  31 |  13 |  18 |   0.419 | 8-7           | 5-11          |\n",
            "| 43 | 1610612759 |       22022 | 2022-12-20      | West         | San Antonio   |  30 |  10 |  20 |   0.333 | 5-12          | 5-8           |\n",
            "| 44 | 1610612745 |       22022 | 2022-12-20      | West         | Houston       |  30 |   9 |  21 |   0.3   | 6-8           | 3-13          |\n",
            "| 45 | 1610612763 |       22022 | 2022-12-19      | West         | Memphis       |  29 |  19 |  10 |   0.655 | 13-2          | 6-8           |\n",
            "| 46 | 1610612743 |       22022 | 2022-12-19      | West         | Denver        |  29 |  18 |  11 |   0.621 | 9-3           | 9-8           |\n",
            "| 47 | 1610612756 |       22022 | 2022-12-19      | West         | Phoenix       |  31 |  19 |  12 |   0.613 | 14-3          | 5-9           |\n",
            "| 48 | 1610612740 |       22022 | 2022-12-19      | West         | New Orleans   |  30 |  18 |  12 |   0.6   | 12-4          | 6-8           |\n",
            "| 49 | 1610612746 |       22022 | 2022-12-19      | West         | LA Clippers   |  32 |  18 |  14 |   0.563 | 10-7          | 8-7           |\n"
          ]
        }
      ]
    },
    {
      "cell_type": "code",
      "source": [
        "df_LIMP_by_sal = df.groupby(\"W\")\\\n",
        ".aggregate(W_PCT=pd.NamedAgg(column=\"W_PCT\", aggfunc=pd.DataFrame.mean))\n",
        "\n",
        "df_LIMP_by_sal.reset_index(inplace=True)\n",
        "linear_regression(df_LIMP_by_sal, \"W\", \"W_PCT\")"
      ],
      "metadata": {
        "colab": {
          "base_uri": "https://localhost:8080/"
        },
        "id": "4yv1pmQ_0dab",
        "outputId": "278f620b-c431-4409-c968-160819477b08"
      },
      "execution_count": null,
      "outputs": [
        {
          "output_type": "stream",
          "name": "stdout",
          "text": [
            "                            OLS Regression Results                            \n",
            "==============================================================================\n",
            "Dep. Variable:                  W_PCT   R-squared:                       0.764\n",
            "Model:                            OLS   Adj. R-squared:                  0.761\n",
            "Method:                 Least Squares   F-statistic:                     233.7\n",
            "Date:                Fri, 19 May 2023   Prob (F-statistic):           2.65e-24\n",
            "Time:                        21:11:23   Log-Likelihood:                 82.304\n",
            "No. Observations:                  74   AIC:                            -160.6\n",
            "Df Residuals:                      72   BIC:                            -156.0\n",
            "Df Model:                           1                                         \n",
            "Covariance Type:            nonrobust                                         \n",
            "==============================================================================\n",
            "                 coef    std err          t      P>|t|      [0.025      0.975]\n",
            "------------------------------------------------------------------------------\n",
            "const          0.3216      0.019     17.320      0.000       0.285       0.359\n",
            "W              0.0067      0.000     15.286      0.000       0.006       0.008\n",
            "==============================================================================\n",
            "Omnibus:                        9.076   Durbin-Watson:                   0.596\n",
            "Prob(Omnibus):                  0.011   Jarque-Bera (JB):               20.222\n",
            "Skew:                          -0.148   Prob(JB):                     4.06e-05\n",
            "Kurtosis:                       5.544   Cond. No.                         83.8\n",
            "==============================================================================\n",
            "\n",
            "Notes:\n",
            "[1] Standard Errors assume that the covariance matrix of the errors is correctly specified.\n"
          ]
        }
      ]
    },
    {
      "cell_type": "code",
      "source": [
        "from google.colab import files\n",
        "files.download('regresion.png')"
      ],
      "metadata": {
        "colab": {
          "base_uri": "https://localhost:8080/",
          "height": 17
        },
        "id": "aHcn1iVR10rE",
        "outputId": "bff4d80e-64ed-4538-ec2b-24967aace4ac"
      },
      "execution_count": null,
      "outputs": [
        {
          "output_type": "display_data",
          "data": {
            "text/plain": [
              "<IPython.core.display.Javascript object>"
            ],
            "application/javascript": [
              "\n",
              "    async function download(id, filename, size) {\n",
              "      if (!google.colab.kernel.accessAllowed) {\n",
              "        return;\n",
              "      }\n",
              "      const div = document.createElement('div');\n",
              "      const label = document.createElement('label');\n",
              "      label.textContent = `Downloading \"${filename}\": `;\n",
              "      div.appendChild(label);\n",
              "      const progress = document.createElement('progress');\n",
              "      progress.max = size;\n",
              "      div.appendChild(progress);\n",
              "      document.body.appendChild(div);\n",
              "\n",
              "      const buffers = [];\n",
              "      let downloaded = 0;\n",
              "\n",
              "      const channel = await google.colab.kernel.comms.open(id);\n",
              "      // Send a message to notify the kernel that we're ready.\n",
              "      channel.send({})\n",
              "\n",
              "      for await (const message of channel.messages) {\n",
              "        // Send a message to notify the kernel that we're ready.\n",
              "        channel.send({})\n",
              "        if (message.buffers) {\n",
              "          for (const buffer of message.buffers) {\n",
              "            buffers.push(buffer);\n",
              "            downloaded += buffer.byteLength;\n",
              "            progress.value = downloaded;\n",
              "          }\n",
              "        }\n",
              "      }\n",
              "      const blob = new Blob(buffers, {type: 'application/binary'});\n",
              "      const a = document.createElement('a');\n",
              "      a.href = window.URL.createObjectURL(blob);\n",
              "      a.download = filename;\n",
              "      div.appendChild(a);\n",
              "      a.click();\n",
              "      div.remove();\n",
              "    }\n",
              "  "
            ]
          },
          "metadata": {}
        },
        {
          "output_type": "display_data",
          "data": {
            "text/plain": [
              "<IPython.core.display.Javascript object>"
            ],
            "application/javascript": [
              "download(\"download_c2578ff7-9ebc-4f25-9dbf-812ebc372984\", \"regresion.png\", 19821)"
            ]
          },
          "metadata": {}
        }
      ]
    },
    {
      "cell_type": "markdown",
      "source": [
        "# Forecasting"
      ],
      "metadata": {
        "id": "cpkI3syu3kaE"
      }
    },
    {
      "cell_type": "code",
      "source": [
        "import matplotlib.pyplot as plt\n",
        "import statsmodels.api as sm\n",
        "import numbers\n",
        "import pandas as pd\n",
        "from tabulate import tabulate\n",
        "from statsmodels.stats.outliers_influence import summary_table\n",
        "from typing import Tuple, Dict\n",
        "import numpy as np"
      ],
      "metadata": {
        "id": "RQjnplz83vFx"
      },
      "execution_count": null,
      "outputs": []
    },
    {
      "cell_type": "code",
      "source": [
        "def print_tabulate(df: pd.DataFrame):\n",
        "    print(tabulate(df, headers=df.columns, tablefmt=\"orgtbl\"))\n"
      ],
      "metadata": {
        "id": "SaxB745s4GWD"
      },
      "execution_count": null,
      "outputs": []
    },
    {
      "cell_type": "code",
      "source": [
        "def transform_variable(df: pd.DataFrame, x:str)->pd.Series:\n",
        "    if isinstance(df[x][0], numbers.Number):\n",
        "        return df[x] # type: pd.Series\n",
        "    else:\n",
        "        return pd.Series([i for i in range(0, len(df[x]))])"
      ],
      "metadata": {
        "id": "EFglNbds4HZ1"
      },
      "execution_count": null,
      "outputs": []
    },
    {
      "cell_type": "code",
      "source": [
        "def linear_regression(df: pd.DataFrame, x:str, y: str)->Dict[str, float]:\n",
        "    fixed_x = transform_variable(df, x)\n",
        "    model= sm.OLS(df[y],sm.add_constant(fixed_x)).fit()\n",
        "    bands = pd.read_html(model.summary().tables[1].as_html(),header=0,index_col=0)[0]\n",
        "    print_tabulate(pd.read_html(model.summary().tables[1].as_html(),header=0,index_col=0)[0])\n",
        "    coef = pd.read_html(model.summary().tables[1].as_html(),header=0,index_col=0)[0]['coef']\n",
        "    r_2_t = pd.read_html(model.summary().tables[0].as_html(),header=None,index_col=None)[0]\n",
        "    return {'m': coef.values[1], 'b': coef.values[0], 'r2': r_2_t.values[0][3], 'r2_adj': r_2_t.values[1][3], 'low_band': bands['[0.025'][0], 'hi_band': bands['0.975]'][0]}"
      ],
      "metadata": {
        "id": "3MNaQSSj4Kpa"
      },
      "execution_count": null,
      "outputs": []
    },
    {
      "cell_type": "code",
      "source": [
        "def plt_lr(df: pd.DataFrame, x:str, y: str, m: float, b: float, r2: float, r2_adj: float, low_band: float, hi_band: float, colors: Tuple[str,str]):\n",
        "    fixed_x = transform_variable(df, x)\n",
        "    df.plot(x=x,y=y, kind='scatter')\n",
        "    plt.plot(df[x],[ m * x + b for _, x in fixed_x.items()], color=colors[0])\n",
        "    plt.fill_between(df[x],\n",
        "                     [ m * x  + low_band for _, x in fixed_x.items()],\n",
        "                     [ m * x + hi_band for _, x in fixed_x.items()], alpha=0.2, color=colors[1])\n"
      ],
      "metadata": {
        "id": "ta2UJPvR4YVB"
      },
      "execution_count": null,
      "outputs": []
    },
    {
      "cell_type": "code",
      "source": [
        "df = pd.read_csv(\"/content/drive/MyDrive/Mineria de datos/ranking.csv\") #type: pd.DataFrame\n",
        "#print_tabulate(df_LIMP.head(50))"
      ],
      "metadata": {
        "id": "IFEo_Sar4bjp"
      },
      "execution_count": null,
      "outputs": []
    },
    {
      "cell_type": "code",
      "source": [
        "df_LIMP_by_sal = df.groupby(\"W\")\\\n",
        ".aggregate(W_PCT=pd.NamedAgg(column=\"W_PCT\", aggfunc=pd.DataFrame.mean))\n",
        "\n",
        "df_LIMP_by_sal.reset_index(inplace=True)\n",
        "a = linear_regression(df_LIMP_by_sal, \"W\", \"W_PCT\")\n",
        "plt_lr(df=df_LIMP_by_sal, x=\"W\", y=\"W_PCT\", colors=('red', 'orange'), **a)\n",
        "\n",
        "plt.xticks(rotation=90)\n",
        "plt.savefig('forecast.png')\n",
        "plt.close()\n",
        "\n"
      ],
      "metadata": {
        "colab": {
          "base_uri": "https://localhost:8080/"
        },
        "id": "T6StNeyi4xj8",
        "outputId": "8bbeac2e-ac7b-4ee0-be66-4c3a87d4d9f8"
      },
      "execution_count": null,
      "outputs": [
        {
          "output_type": "stream",
          "name": "stdout",
          "text": [
            "|       |   coef |   std err |      t |   P>|t| |   [0.025 |   0.975] |\n",
            "|-------+--------+-----------+--------+---------+----------+----------|\n",
            "| const | 0.3216 |     0.019 | 17.32  |       0 |    0.285 |    0.359 |\n",
            "| W     | 0.0067 |     0     | 15.286 |       0 |    0.006 |    0.008 |\n"
          ]
        }
      ]
    },
    {
      "cell_type": "code",
      "source": [
        "\n",
        "from google.colab import files\n",
        "files.download('forecast.png')"
      ],
      "metadata": {
        "colab": {
          "base_uri": "https://localhost:8080/",
          "height": 17
        },
        "id": "vAiiVM0d7J4O",
        "outputId": "8f4ceea6-1dbc-481b-93e8-00561e2265d4"
      },
      "execution_count": null,
      "outputs": [
        {
          "output_type": "display_data",
          "data": {
            "text/plain": [
              "<IPython.core.display.Javascript object>"
            ],
            "application/javascript": [
              "\n",
              "    async function download(id, filename, size) {\n",
              "      if (!google.colab.kernel.accessAllowed) {\n",
              "        return;\n",
              "      }\n",
              "      const div = document.createElement('div');\n",
              "      const label = document.createElement('label');\n",
              "      label.textContent = `Downloading \"${filename}\": `;\n",
              "      div.appendChild(label);\n",
              "      const progress = document.createElement('progress');\n",
              "      progress.max = size;\n",
              "      div.appendChild(progress);\n",
              "      document.body.appendChild(div);\n",
              "\n",
              "      const buffers = [];\n",
              "      let downloaded = 0;\n",
              "\n",
              "      const channel = await google.colab.kernel.comms.open(id);\n",
              "      // Send a message to notify the kernel that we're ready.\n",
              "      channel.send({})\n",
              "\n",
              "      for await (const message of channel.messages) {\n",
              "        // Send a message to notify the kernel that we're ready.\n",
              "        channel.send({})\n",
              "        if (message.buffers) {\n",
              "          for (const buffer of message.buffers) {\n",
              "            buffers.push(buffer);\n",
              "            downloaded += buffer.byteLength;\n",
              "            progress.value = downloaded;\n",
              "          }\n",
              "        }\n",
              "      }\n",
              "      const blob = new Blob(buffers, {type: 'application/binary'});\n",
              "      const a = document.createElement('a');\n",
              "      a.href = window.URL.createObjectURL(blob);\n",
              "      a.download = filename;\n",
              "      div.appendChild(a);\n",
              "      a.click();\n",
              "      div.remove();\n",
              "    }\n",
              "  "
            ]
          },
          "metadata": {}
        },
        {
          "output_type": "display_data",
          "data": {
            "text/plain": [
              "<IPython.core.display.Javascript object>"
            ],
            "application/javascript": [
              "download(\"download_50357e44-1880-4022-ba26-768c1f07501e\", \"forecast.png\", 27258)"
            ]
          },
          "metadata": {}
        }
      ]
    },
    {
      "cell_type": "markdown",
      "source": [
        "# Clasificacion de datos"
      ],
      "metadata": {
        "id": "OQHdA64V8fVN"
      }
    },
    {
      "cell_type": "code",
      "source": [
        "from google.colab import files\n",
        "\n",
        "files.download(\"/content/drive/MyDrive/Mineria de datos/groups.png\")import pandas as pd\n",
        "from tabulate import tabulate\n",
        "import matplotlib.pyplot as plt\n",
        "from typing import Tuple, Dict, List\n",
        "import numpy as np\n",
        "from functools import reduce\n",
        "from scipy.stats import mode"
      ],
      "metadata": {
        "id": "j9FzJud68k3v"
      },
      "execution_count": null,
      "outputs": []
    },
    {
      "cell_type": "code",
      "source": [
        "def print_tabulate(df: pd.DataFrame):\n",
        "    print(tabulate(df, headers=df.columns, tablefmt=\"orgtbl\"))\n"
      ],
      "metadata": {
        "id": "x8bzaEvN9aJ-"
      },
      "execution_count": null,
      "outputs": []
    },
    {
      "cell_type": "code",
      "source": [
        "def normalize_distribution(dist: np.array, n: int) -> np.array:\n",
        "    b = dist - min(dist) + 0.000001\n",
        "    c = (b / np.sum(b)) * n\n",
        "    return np.round(c)"
      ],
      "metadata": {
        "id": "wBxwtHuX9eA-"
      },
      "execution_count": null,
      "outputs": []
    },
    {
      "cell_type": "code",
      "source": [
        "def create_distribution(mean: float, size: int) -> pd.Series:\n",
        "    return normalize_distribution(np.random.standard_normal(size), mean * size)"
      ],
      "metadata": {
        "id": "2OV03QtT9g6v"
      },
      "execution_count": null,
      "outputs": []
    },
    {
      "cell_type": "code",
      "source": [
        "def generate_df(means: List[Tuple[float, float, str]], n: int) -> pd.DataFrame:\n",
        "    lists = [\n",
        "        (create_distribution(_x, n), create_distribution(_y, n), np.repeat(_l, n))\n",
        "        for _x, _y, _l in means\n",
        "    ]\n",
        "    x = np.array([])\n",
        "    y = np.array([])\n",
        "    labels = np.array([])\n",
        "    for _x, _y, _l in lists[:3]:\n",
        "        x = np.concatenate((x, _x), axis=None)\n",
        "        y = np.concatenate((y, _y))\n",
        "        labels = np.concatenate((labels, _l))\n",
        "    return pd.DataFrame({\"x\": x, \"y\": y, \"label\": labels})"
      ],
      "metadata": {
        "id": "sfbdgbWc9luj"
      },
      "execution_count": null,
      "outputs": []
    },
    {
      "cell_type": "code",
      "source": [
        "def get_cmap(n, name=\"hsv\"):\n",
        "    \"\"\"Returns a function that maps each index in 0, 1, ..., n-1 to a distinct\n",
        "    RGB color; the keyword argument name must be a standard mpl colormap name.\"\"\"\n",
        "    return plt.cm.get_cmap(name, n)"
      ],
      "metadata": {
        "id": "im6g4p-a9rAF"
      },
      "execution_count": null,
      "outputs": []
    },
    {
      "cell_type": "code",
      "source": [
        "def scatter_group_by(\n",
        "    file_path: str, df: pd.DataFrame, x_column: str, y_column: str, label_column: str\n",
        "):\n",
        "    fig, ax = plt.subplots()\n",
        "    labels = pd.unique(df[label_column])\n",
        "    cmap = get_cmap(len(labels) + 1)\n",
        "    for i, label in enumerate(labels):\n",
        "        filter_df = df.query(f\"{label_column} == '{label}'\")\n",
        "        ax.scatter(filter_df[x_column], filter_df[y_column], label=label, color=cmap(i))\n",
        "    ax.legend()\n",
        "    plt.savefig(file_path)\n",
        "    plt.close()"
      ],
      "metadata": {
        "id": "pxJrlwJu9vH9"
      },
      "execution_count": null,
      "outputs": []
    },
    {
      "cell_type": "code",
      "source": [
        "def euclidean_distance(p_1: np.array, p_2: np.array) -> float:\n",
        "    return np.sqrt(np.sum((p_2 - p_1) ** 2))"
      ],
      "metadata": {
        "id": "ZIsRToaV92vz"
      },
      "execution_count": null,
      "outputs": []
    },
    {
      "cell_type": "code",
      "source": [
        "def k_nearest_neightbors(\n",
        "    points: List[np.array], labels: np.array, input_data: List[np.array], k: int\n",
        "):\n",
        "    input_distances = [\n",
        "        [euclidean_distance(input_point, point) for point in points]\n",
        "        for input_point in input_data\n",
        "    ]\n",
        "    points_k_nearest = [\n",
        "        np.argsort(input_point_dist)[:k] for input_point_dist in input_distances\n",
        "    ]\n",
        "    return [\n",
        "        mode([labels[index] for index in point_nearest])\n",
        "        for point_nearest in points_k_nearest\n",
        "    ]\n",
        "\n",
        "\n",
        "df_LIMP_20000= pd.read_csv(\"/content/drive/MyDrive/Mineria de datos/ranking.csv\")\n",
        "df_LIMP_20000 = df_LIMP_20000.head(20000)\n",
        "\n",
        "dfclust = pd.DataFrame()\n",
        "dfclust[\"W_PCT\"] = df_LIMP_20000[\"W_PCT\"] \n",
        "dfclust[\"W\"] = df_LIMP_20000[\"W\"] \n",
        "dfclust[\"STANDINGSDATE\"] = df_LIMP_20000[\"STANDINGSDATE\"] #\n",
        "\n",
        "dfclust[\"STANDINGSDATE\"] = pd.to_datetime(dfclust[\"STANDINGSDATE\"], format= \"%Y-%m-%d\")\n",
        "dfclust[\"STANDINGSDATE\"] = [str(anio.year) for anio in dfclust[\"STANDINGSDATE\"]]\n",
        "dfclust"
      ],
      "metadata": {
        "colab": {
          "base_uri": "https://localhost:8080/",
          "height": 424
        },
        "id": "NGnFKr5KDhtu",
        "outputId": "53fc45a0-cc33-42ab-dc28-d64101fdced0"
      },
      "execution_count": null,
      "outputs": [
        {
          "output_type": "execute_result",
          "data": {
            "text/plain": [
              "       W_PCT   W STANDINGSDATE\n",
              "0      0.633  19          2022\n",
              "1      0.633  19          2022\n",
              "2      0.613  19          2022\n",
              "3      0.594  19          2022\n",
              "4      0.576  19          2022\n",
              "...      ...  ..           ...\n",
              "19995  0.750  27          2021\n",
              "19996  0.686  24          2021\n",
              "19997  0.649  24          2021\n",
              "19998  0.632  24          2021\n",
              "19999  0.600  21          2021\n",
              "\n",
              "[20000 rows x 3 columns]"
            ],
            "text/html": [
              "\n",
              "  <div id=\"df-112415bb-0d52-40cf-9075-84eccd5f8db3\">\n",
              "    <div class=\"colab-df-container\">\n",
              "      <div>\n",
              "<style scoped>\n",
              "    .dataframe tbody tr th:only-of-type {\n",
              "        vertical-align: middle;\n",
              "    }\n",
              "\n",
              "    .dataframe tbody tr th {\n",
              "        vertical-align: top;\n",
              "    }\n",
              "\n",
              "    .dataframe thead th {\n",
              "        text-align: right;\n",
              "    }\n",
              "</style>\n",
              "<table border=\"1\" class=\"dataframe\">\n",
              "  <thead>\n",
              "    <tr style=\"text-align: right;\">\n",
              "      <th></th>\n",
              "      <th>W_PCT</th>\n",
              "      <th>W</th>\n",
              "      <th>STANDINGSDATE</th>\n",
              "    </tr>\n",
              "  </thead>\n",
              "  <tbody>\n",
              "    <tr>\n",
              "      <th>0</th>\n",
              "      <td>0.633</td>\n",
              "      <td>19</td>\n",
              "      <td>2022</td>\n",
              "    </tr>\n",
              "    <tr>\n",
              "      <th>1</th>\n",
              "      <td>0.633</td>\n",
              "      <td>19</td>\n",
              "      <td>2022</td>\n",
              "    </tr>\n",
              "    <tr>\n",
              "      <th>2</th>\n",
              "      <td>0.613</td>\n",
              "      <td>19</td>\n",
              "      <td>2022</td>\n",
              "    </tr>\n",
              "    <tr>\n",
              "      <th>3</th>\n",
              "      <td>0.594</td>\n",
              "      <td>19</td>\n",
              "      <td>2022</td>\n",
              "    </tr>\n",
              "    <tr>\n",
              "      <th>4</th>\n",
              "      <td>0.576</td>\n",
              "      <td>19</td>\n",
              "      <td>2022</td>\n",
              "    </tr>\n",
              "    <tr>\n",
              "      <th>...</th>\n",
              "      <td>...</td>\n",
              "      <td>...</td>\n",
              "      <td>...</td>\n",
              "    </tr>\n",
              "    <tr>\n",
              "      <th>19995</th>\n",
              "      <td>0.750</td>\n",
              "      <td>27</td>\n",
              "      <td>2021</td>\n",
              "    </tr>\n",
              "    <tr>\n",
              "      <th>19996</th>\n",
              "      <td>0.686</td>\n",
              "      <td>24</td>\n",
              "      <td>2021</td>\n",
              "    </tr>\n",
              "    <tr>\n",
              "      <th>19997</th>\n",
              "      <td>0.649</td>\n",
              "      <td>24</td>\n",
              "      <td>2021</td>\n",
              "    </tr>\n",
              "    <tr>\n",
              "      <th>19998</th>\n",
              "      <td>0.632</td>\n",
              "      <td>24</td>\n",
              "      <td>2021</td>\n",
              "    </tr>\n",
              "    <tr>\n",
              "      <th>19999</th>\n",
              "      <td>0.600</td>\n",
              "      <td>21</td>\n",
              "      <td>2021</td>\n",
              "    </tr>\n",
              "  </tbody>\n",
              "</table>\n",
              "<p>20000 rows × 3 columns</p>\n",
              "</div>\n",
              "      <button class=\"colab-df-convert\" onclick=\"convertToInteractive('df-112415bb-0d52-40cf-9075-84eccd5f8db3')\"\n",
              "              title=\"Convert this dataframe to an interactive table.\"\n",
              "              style=\"display:none;\">\n",
              "        \n",
              "  <svg xmlns=\"http://www.w3.org/2000/svg\" height=\"24px\"viewBox=\"0 0 24 24\"\n",
              "       width=\"24px\">\n",
              "    <path d=\"M0 0h24v24H0V0z\" fill=\"none\"/>\n",
              "    <path d=\"M18.56 5.44l.94 2.06.94-2.06 2.06-.94-2.06-.94-.94-2.06-.94 2.06-2.06.94zm-11 1L8.5 8.5l.94-2.06 2.06-.94-2.06-.94L8.5 2.5l-.94 2.06-2.06.94zm10 10l.94 2.06.94-2.06 2.06-.94-2.06-.94-.94-2.06-.94 2.06-2.06.94z\"/><path d=\"M17.41 7.96l-1.37-1.37c-.4-.4-.92-.59-1.43-.59-.52 0-1.04.2-1.43.59L10.3 9.45l-7.72 7.72c-.78.78-.78 2.05 0 2.83L4 21.41c.39.39.9.59 1.41.59.51 0 1.02-.2 1.41-.59l7.78-7.78 2.81-2.81c.8-.78.8-2.07 0-2.86zM5.41 20L4 18.59l7.72-7.72 1.47 1.35L5.41 20z\"/>\n",
              "  </svg>\n",
              "      </button>\n",
              "      \n",
              "  <style>\n",
              "    .colab-df-container {\n",
              "      display:flex;\n",
              "      flex-wrap:wrap;\n",
              "      gap: 12px;\n",
              "    }\n",
              "\n",
              "    .colab-df-convert {\n",
              "      background-color: #E8F0FE;\n",
              "      border: none;\n",
              "      border-radius: 50%;\n",
              "      cursor: pointer;\n",
              "      display: none;\n",
              "      fill: #1967D2;\n",
              "      height: 32px;\n",
              "      padding: 0 0 0 0;\n",
              "      width: 32px;\n",
              "    }\n",
              "\n",
              "    .colab-df-convert:hover {\n",
              "      background-color: #E2EBFA;\n",
              "      box-shadow: 0px 1px 2px rgba(60, 64, 67, 0.3), 0px 1px 3px 1px rgba(60, 64, 67, 0.15);\n",
              "      fill: #174EA6;\n",
              "    }\n",
              "\n",
              "    [theme=dark] .colab-df-convert {\n",
              "      background-color: #3B4455;\n",
              "      fill: #D2E3FC;\n",
              "    }\n",
              "\n",
              "    [theme=dark] .colab-df-convert:hover {\n",
              "      background-color: #434B5C;\n",
              "      box-shadow: 0px 1px 3px 1px rgba(0, 0, 0, 0.15);\n",
              "      filter: drop-shadow(0px 1px 2px rgba(0, 0, 0, 0.3));\n",
              "      fill: #FFFFFF;\n",
              "    }\n",
              "  </style>\n",
              "\n",
              "      <script>\n",
              "        const buttonEl =\n",
              "          document.querySelector('#df-112415bb-0d52-40cf-9075-84eccd5f8db3 button.colab-df-convert');\n",
              "        buttonEl.style.display =\n",
              "          google.colab.kernel.accessAllowed ? 'block' : 'none';\n",
              "\n",
              "        async function convertToInteractive(key) {\n",
              "          const element = document.querySelector('#df-112415bb-0d52-40cf-9075-84eccd5f8db3');\n",
              "          const dataTable =\n",
              "            await google.colab.kernel.invokeFunction('convertToInteractive',\n",
              "                                                     [key], {});\n",
              "          if (!dataTable) return;\n",
              "\n",
              "          const docLinkHtml = 'Like what you see? Visit the ' +\n",
              "            '<a target=\"_blank\" href=https://colab.research.google.com/notebooks/data_table.ipynb>data table notebook</a>'\n",
              "            + ' to learn more about interactive tables.';\n",
              "          element.innerHTML = '';\n",
              "          dataTable['output_type'] = 'display_data';\n",
              "          await google.colab.output.renderOutput(dataTable, element);\n",
              "          const docLink = document.createElement('div');\n",
              "          docLink.innerHTML = docLinkHtml;\n",
              "          element.appendChild(docLink);\n",
              "        }\n",
              "      </script>\n",
              "    </div>\n",
              "  </div>\n",
              "  "
            ]
          },
          "metadata": {},
          "execution_count": 315
        }
      ]
    },
    {
      "cell_type": "code",
      "source": [
        "scatter_group_by(\"/content/drive/MyDrive/Mineria de datos/groups.png\", dfclust, \"W_PCT\", \"W\", \"STANDINGSDATE\")\n",
        "list_t = [\n",
        "    (np.array(tuples[0:1]), tuples[2])\n",
        "    for tuples in dfclust.itertuples(index=False, name=None)\n",
        "]\n",
        "points = [point for point, _ in list_t]\n",
        "labels = [label for _, label in list_t]\n",
        "\n",
        "kn = k_nearest_neightbors(\n",
        "    points,\n",
        "    labels,\n",
        "    [np.array([100, 150]), np.array([1, 1]), np.array([1, 300]), np.array([80, 40])],\n",
        "    5,\n",
        ")\n",
        "print(kn)"
      ],
      "metadata": {
        "id": "_hHa6kQlDk3u"
      },
      "execution_count": null,
      "outputs": []
    },
    {
      "cell_type": "code",
      "source": [
        "from google.colab import files\n",
        "\n",
        "files.download(\"/content/drive/MyDrive/Mineria de datos/groups.png\")"
      ],
      "metadata": {
        "colab": {
          "base_uri": "https://localhost:8080/",
          "height": 17
        },
        "id": "8EOG7uOQECIV",
        "outputId": "5b86bba7-d841-4736-bb76-86200bf6146e"
      },
      "execution_count": null,
      "outputs": [
        {
          "output_type": "display_data",
          "data": {
            "text/plain": [
              "<IPython.core.display.Javascript object>"
            ],
            "application/javascript": [
              "\n",
              "    async function download(id, filename, size) {\n",
              "      if (!google.colab.kernel.accessAllowed) {\n",
              "        return;\n",
              "      }\n",
              "      const div = document.createElement('div');\n",
              "      const label = document.createElement('label');\n",
              "      label.textContent = `Downloading \"${filename}\": `;\n",
              "      div.appendChild(label);\n",
              "      const progress = document.createElement('progress');\n",
              "      progress.max = size;\n",
              "      div.appendChild(progress);\n",
              "      document.body.appendChild(div);\n",
              "\n",
              "      const buffers = [];\n",
              "      let downloaded = 0;\n",
              "\n",
              "      const channel = await google.colab.kernel.comms.open(id);\n",
              "      // Send a message to notify the kernel that we're ready.\n",
              "      channel.send({})\n",
              "\n",
              "      for await (const message of channel.messages) {\n",
              "        // Send a message to notify the kernel that we're ready.\n",
              "        channel.send({})\n",
              "        if (message.buffers) {\n",
              "          for (const buffer of message.buffers) {\n",
              "            buffers.push(buffer);\n",
              "            downloaded += buffer.byteLength;\n",
              "            progress.value = downloaded;\n",
              "          }\n",
              "        }\n",
              "      }\n",
              "      const blob = new Blob(buffers, {type: 'application/binary'});\n",
              "      const a = document.createElement('a');\n",
              "      a.href = window.URL.createObjectURL(blob);\n",
              "      a.download = filename;\n",
              "      div.appendChild(a);\n",
              "      a.click();\n",
              "      div.remove();\n",
              "    }\n",
              "  "
            ]
          },
          "metadata": {}
        },
        {
          "output_type": "display_data",
          "data": {
            "text/plain": [
              "<IPython.core.display.Javascript object>"
            ],
            "application/javascript": [
              "download(\"download_c9f14bee-59ad-4889-a1c7-d6c6b894e16e\", \"groups.png\", 45739)"
            ]
          },
          "metadata": {}
        }
      ]
    },
    {
      "cell_type": "markdown",
      "source": [
        "# Agrupacion de datos"
      ],
      "metadata": {
        "id": "Q-A97ZOTLKJr"
      }
    },
    {
      "cell_type": "code",
      "source": [
        "import pandas as pd\n",
        "from tabulate import tabulate\n",
        "import matplotlib.pyplot as plt\n",
        "from typing import Tuple, Dict, List\n",
        "import numpy as np\n",
        "from functools import reduce"
      ],
      "metadata": {
        "id": "o8cN5dV3RNtH"
      },
      "execution_count": null,
      "outputs": []
    },
    {
      "cell_type": "code",
      "source": [
        "def print_tabulate(df: pd.DataFrame):\n",
        "    print(tabulate(df, headers=df.columns, tablefmt=\"orgtbl\"))"
      ],
      "metadata": {
        "id": "brE7dtNbR845"
      },
      "execution_count": null,
      "outputs": []
    },
    {
      "cell_type": "code",
      "source": [
        "def normalize_distribution(dist: np.array, n: int) -> np.array:\n",
        "    b = dist - min(dist) + 0.000001\n",
        "    c = (b / np.sum(b)) * n\n",
        "    return np.round(c)"
      ],
      "metadata": {
        "id": "KTXIEl2dSAvi"
      },
      "execution_count": null,
      "outputs": []
    },
    {
      "cell_type": "code",
      "source": [
        "def create_distribution(mean: float, size: int) -> pd.Series:\n",
        "    return normalize_distribution(np.random.standard_normal(size), mean * size)"
      ],
      "metadata": {
        "id": "SWtf7Cq9SEpP"
      },
      "execution_count": null,
      "outputs": []
    },
    {
      "cell_type": "code",
      "source": [
        "def generate_df(means: List[Tuple[float, float, str]], n: int) -> pd.DataFrame:\n",
        "    lists = [\n",
        "        (create_distribution(_x, n), create_distribution(_y, n), np.repeat(_l, n))\n",
        "        for _x, _y, _l in means\n",
        "    ]\n",
        "    x = np.array([])\n",
        "    y = np.array([])\n",
        "    labels = np.array([])\n",
        "    for _x, _y, _l in lists[:3]:\n",
        "        x = np.concatenate((x, _x), axis=None)\n",
        "        y = np.concatenate((y, _y))\n",
        "        labels = np.concatenate((labels, _l))\n",
        "    return pd.DataFrame({\"x\": x, \"y\": y, \"label\": labels})"
      ],
      "metadata": {
        "id": "9ubVnUxESNiN"
      },
      "execution_count": null,
      "outputs": []
    },
    {
      "cell_type": "code",
      "source": [
        "def get_cmap(n, name=\"hsv\"):\n",
        "    \"\"\"Returns a function that maps each index in 0, 1, ..., n-1 to a distinct\n",
        "    RGB color; the keyword argument name must be a standard mpl colormap name.\"\"\"\n",
        "    return plt.cm.get_cmap(name, n)"
      ],
      "metadata": {
        "id": "Bj6nVm3qSZVD"
      },
      "execution_count": null,
      "outputs": []
    },
    {
      "cell_type": "code",
      "source": [
        "def scatter_group_by(\n",
        "    file_path: str, df: pd.DataFrame, x_column: str, y_column: str, label_column: str\n",
        "):\n",
        "    fig, ax = plt.subplots()\n",
        "    labels = pd.unique(df[label_column])\n",
        "    cmap = get_cmap(len(labels) + 1)\n",
        "    for i, label in enumerate(labels):\n",
        "        filter_df = df.query(f\"{label_column} == '{label}'\")\n",
        "        ax.scatter(filter_df[x_column], filter_df[y_column], label=label, color=cmap(i))\n",
        "    ax.legend()\n",
        "    plt.savefig(file_path)\n",
        "    plt.close()"
      ],
      "metadata": {
        "id": "Kgw-YcljSfed"
      },
      "execution_count": null,
      "outputs": []
    },
    {
      "cell_type": "code",
      "source": [
        "def euclidean_distance(p_1: np.array, p_2: np.array) -> float:\n",
        "    return np.sqrt(np.sum((p_2 - p_1) ** 2))"
      ],
      "metadata": {
        "id": "werJQUx5SiHn"
      },
      "execution_count": null,
      "outputs": []
    },
    {
      "cell_type": "code",
      "source": [
        "def k_means(points: List[np.array], k: int):\n",
        "    DIM = len(points[0])\n",
        "    N = len(points)\n",
        "    num_cluster = k\n",
        "    iterations = 15\n",
        "\n",
        "    x = np.array(points)\n",
        "    y = np.random.randint(0, num_cluster, N)\n",
        "\n",
        "    mean = np.zeros((num_cluster, DIM))\n",
        "    for t in range(iterations):\n",
        "        for k in range(num_cluster):\n",
        "            mean[k] = np.mean(x[y == k], axis=0)\n",
        "        for i in range(N):\n",
        "            dist = np.sum((mean - x[i]) ** 2, axis=1)\n",
        "            pred = np.argmin(dist)\n",
        "            y[i] = pred\n",
        "\n",
        "    for kl in range(num_cluster):\n",
        "        xp = x[y == kl, 0]\n",
        "        yp = x[y == kl, 1]\n",
        "        plt.scatter(xp, yp)\n",
        "    plt.savefig(\"/content/drive/MyDrive/Mineria de datos/agrupacion.png\")\n",
        "    plt.close()\n",
        "    return mean"
      ],
      "metadata": {
        "id": "8wTwkK_ySlpl"
      },
      "execution_count": null,
      "outputs": []
    },
    {
      "cell_type": "code",
      "source": [
        "df_LIMP_20000= pd.read_csv(\"/content/drive/MyDrive/Mineria de datos/ranking.csv\")\n",
        "df_LIMP_20000 = df_LIMP_20000.head(20000)\n",
        "\n",
        "dfclust = pd.DataFrame()\n",
        "dfclust[\"W_PCT\"] = df_LIMP_20000[\"W_PCT\"] \n",
        "dfclust[\"W\"] = df_LIMP_20000[\"W\"] \n",
        "dfclust[\"STANDINGSDATE\"] = df_LIMP_20000[\"STANDINGSDATE\"] #\n",
        "\n",
        "dfclust[\"STANDINGSDATE\"] = pd.to_datetime(dfclust[\"STANDINGSDATE\"], format= \"%Y-%m-%d\")\n",
        "dfclust[\"STANDINGSDATE\"] = [str(anio.year) for anio in dfclust[\"STANDINGSDATE\"]]\n",
        "dfclust"
      ],
      "metadata": {
        "colab": {
          "base_uri": "https://localhost:8080/",
          "height": 424
        },
        "id": "32v0NFo3YQxB",
        "outputId": "1bddfbf0-b64b-40bd-d8a4-2dc78a70eb2f"
      },
      "execution_count": null,
      "outputs": [
        {
          "output_type": "execute_result",
          "data": {
            "text/plain": [
              "       W_PCT   W STANDINGSDATE\n",
              "0      0.633  19          2022\n",
              "1      0.633  19          2022\n",
              "2      0.613  19          2022\n",
              "3      0.594  19          2022\n",
              "4      0.576  19          2022\n",
              "...      ...  ..           ...\n",
              "19995  0.750  27          2021\n",
              "19996  0.686  24          2021\n",
              "19997  0.649  24          2021\n",
              "19998  0.632  24          2021\n",
              "19999  0.600  21          2021\n",
              "\n",
              "[20000 rows x 3 columns]"
            ],
            "text/html": [
              "\n",
              "  <div id=\"df-4e9a22cd-a407-4c77-bc94-ee541ab6bbbe\">\n",
              "    <div class=\"colab-df-container\">\n",
              "      <div>\n",
              "<style scoped>\n",
              "    .dataframe tbody tr th:only-of-type {\n",
              "        vertical-align: middle;\n",
              "    }\n",
              "\n",
              "    .dataframe tbody tr th {\n",
              "        vertical-align: top;\n",
              "    }\n",
              "\n",
              "    .dataframe thead th {\n",
              "        text-align: right;\n",
              "    }\n",
              "</style>\n",
              "<table border=\"1\" class=\"dataframe\">\n",
              "  <thead>\n",
              "    <tr style=\"text-align: right;\">\n",
              "      <th></th>\n",
              "      <th>W_PCT</th>\n",
              "      <th>W</th>\n",
              "      <th>STANDINGSDATE</th>\n",
              "    </tr>\n",
              "  </thead>\n",
              "  <tbody>\n",
              "    <tr>\n",
              "      <th>0</th>\n",
              "      <td>0.633</td>\n",
              "      <td>19</td>\n",
              "      <td>2022</td>\n",
              "    </tr>\n",
              "    <tr>\n",
              "      <th>1</th>\n",
              "      <td>0.633</td>\n",
              "      <td>19</td>\n",
              "      <td>2022</td>\n",
              "    </tr>\n",
              "    <tr>\n",
              "      <th>2</th>\n",
              "      <td>0.613</td>\n",
              "      <td>19</td>\n",
              "      <td>2022</td>\n",
              "    </tr>\n",
              "    <tr>\n",
              "      <th>3</th>\n",
              "      <td>0.594</td>\n",
              "      <td>19</td>\n",
              "      <td>2022</td>\n",
              "    </tr>\n",
              "    <tr>\n",
              "      <th>4</th>\n",
              "      <td>0.576</td>\n",
              "      <td>19</td>\n",
              "      <td>2022</td>\n",
              "    </tr>\n",
              "    <tr>\n",
              "      <th>...</th>\n",
              "      <td>...</td>\n",
              "      <td>...</td>\n",
              "      <td>...</td>\n",
              "    </tr>\n",
              "    <tr>\n",
              "      <th>19995</th>\n",
              "      <td>0.750</td>\n",
              "      <td>27</td>\n",
              "      <td>2021</td>\n",
              "    </tr>\n",
              "    <tr>\n",
              "      <th>19996</th>\n",
              "      <td>0.686</td>\n",
              "      <td>24</td>\n",
              "      <td>2021</td>\n",
              "    </tr>\n",
              "    <tr>\n",
              "      <th>19997</th>\n",
              "      <td>0.649</td>\n",
              "      <td>24</td>\n",
              "      <td>2021</td>\n",
              "    </tr>\n",
              "    <tr>\n",
              "      <th>19998</th>\n",
              "      <td>0.632</td>\n",
              "      <td>24</td>\n",
              "      <td>2021</td>\n",
              "    </tr>\n",
              "    <tr>\n",
              "      <th>19999</th>\n",
              "      <td>0.600</td>\n",
              "      <td>21</td>\n",
              "      <td>2021</td>\n",
              "    </tr>\n",
              "  </tbody>\n",
              "</table>\n",
              "<p>20000 rows × 3 columns</p>\n",
              "</div>\n",
              "      <button class=\"colab-df-convert\" onclick=\"convertToInteractive('df-4e9a22cd-a407-4c77-bc94-ee541ab6bbbe')\"\n",
              "              title=\"Convert this dataframe to an interactive table.\"\n",
              "              style=\"display:none;\">\n",
              "        \n",
              "  <svg xmlns=\"http://www.w3.org/2000/svg\" height=\"24px\"viewBox=\"0 0 24 24\"\n",
              "       width=\"24px\">\n",
              "    <path d=\"M0 0h24v24H0V0z\" fill=\"none\"/>\n",
              "    <path d=\"M18.56 5.44l.94 2.06.94-2.06 2.06-.94-2.06-.94-.94-2.06-.94 2.06-2.06.94zm-11 1L8.5 8.5l.94-2.06 2.06-.94-2.06-.94L8.5 2.5l-.94 2.06-2.06.94zm10 10l.94 2.06.94-2.06 2.06-.94-2.06-.94-.94-2.06-.94 2.06-2.06.94z\"/><path d=\"M17.41 7.96l-1.37-1.37c-.4-.4-.92-.59-1.43-.59-.52 0-1.04.2-1.43.59L10.3 9.45l-7.72 7.72c-.78.78-.78 2.05 0 2.83L4 21.41c.39.39.9.59 1.41.59.51 0 1.02-.2 1.41-.59l7.78-7.78 2.81-2.81c.8-.78.8-2.07 0-2.86zM5.41 20L4 18.59l7.72-7.72 1.47 1.35L5.41 20z\"/>\n",
              "  </svg>\n",
              "      </button>\n",
              "      \n",
              "  <style>\n",
              "    .colab-df-container {\n",
              "      display:flex;\n",
              "      flex-wrap:wrap;\n",
              "      gap: 12px;\n",
              "    }\n",
              "\n",
              "    .colab-df-convert {\n",
              "      background-color: #E8F0FE;\n",
              "      border: none;\n",
              "      border-radius: 50%;\n",
              "      cursor: pointer;\n",
              "      display: none;\n",
              "      fill: #1967D2;\n",
              "      height: 32px;\n",
              "      padding: 0 0 0 0;\n",
              "      width: 32px;\n",
              "    }\n",
              "\n",
              "    .colab-df-convert:hover {\n",
              "      background-color: #E2EBFA;\n",
              "      box-shadow: 0px 1px 2px rgba(60, 64, 67, 0.3), 0px 1px 3px 1px rgba(60, 64, 67, 0.15);\n",
              "      fill: #174EA6;\n",
              "    }\n",
              "\n",
              "    [theme=dark] .colab-df-convert {\n",
              "      background-color: #3B4455;\n",
              "      fill: #D2E3FC;\n",
              "    }\n",
              "\n",
              "    [theme=dark] .colab-df-convert:hover {\n",
              "      background-color: #434B5C;\n",
              "      box-shadow: 0px 1px 3px 1px rgba(0, 0, 0, 0.15);\n",
              "      filter: drop-shadow(0px 1px 2px rgba(0, 0, 0, 0.3));\n",
              "      fill: #FFFFFF;\n",
              "    }\n",
              "  </style>\n",
              "\n",
              "      <script>\n",
              "        const buttonEl =\n",
              "          document.querySelector('#df-4e9a22cd-a407-4c77-bc94-ee541ab6bbbe button.colab-df-convert');\n",
              "        buttonEl.style.display =\n",
              "          google.colab.kernel.accessAllowed ? 'block' : 'none';\n",
              "\n",
              "        async function convertToInteractive(key) {\n",
              "          const element = document.querySelector('#df-4e9a22cd-a407-4c77-bc94-ee541ab6bbbe');\n",
              "          const dataTable =\n",
              "            await google.colab.kernel.invokeFunction('convertToInteractive',\n",
              "                                                     [key], {});\n",
              "          if (!dataTable) return;\n",
              "\n",
              "          const docLinkHtml = 'Like what you see? Visit the ' +\n",
              "            '<a target=\"_blank\" href=https://colab.research.google.com/notebooks/data_table.ipynb>data table notebook</a>'\n",
              "            + ' to learn more about interactive tables.';\n",
              "          element.innerHTML = '';\n",
              "          dataTable['output_type'] = 'display_data';\n",
              "          await google.colab.output.renderOutput(dataTable, element);\n",
              "          const docLink = document.createElement('div');\n",
              "          docLink.innerHTML = docLinkHtml;\n",
              "          element.appendChild(docLink);\n",
              "        }\n",
              "      </script>\n",
              "    </div>\n",
              "  </div>\n",
              "  "
            ]
          },
          "metadata": {},
          "execution_count": 336
        }
      ]
    },
    {
      "cell_type": "code",
      "source": [
        "list_t = [\n",
        "    (np.array(tuples[0:2]), tuples[2])\n",
        "    for tuples in dfclust.itertuples(index=False, name=None)\n",
        "]\n",
        "points = [point for point, _ in list_t]\n",
        "labels = [label for _, label in list_t]\n",
        "\n",
        "kn = k_means(points,3)\n",
        "print(kn)"
      ],
      "metadata": {
        "colab": {
          "base_uri": "https://localhost:8080/"
        },
        "id": "27Bsqjy4YbPl",
        "outputId": "57d9a9d1-7bd7-42c2-d060-015842336b3a"
      },
      "execution_count": null,
      "outputs": [
        {
          "output_type": "stream",
          "name": "stdout",
          "text": [
            "[[ 0.60691149 46.26084928]\n",
            " [ 0.4385853  27.13814461]\n",
            " [ 0.44845068  7.17317708]]\n"
          ]
        }
      ]
    },
    {
      "cell_type": "code",
      "source": [
        "from google.colab import files\n",
        "\n",
        "files.download(\"/content/drive/MyDrive/Mineria de datos/agrupacion.png\")"
      ],
      "metadata": {
        "colab": {
          "base_uri": "https://localhost:8080/",
          "height": 17
        },
        "id": "BgyV2IHVZNGS",
        "outputId": "21cfe3a4-8816-4bf4-e41c-cb2136444067"
      },
      "execution_count": null,
      "outputs": [
        {
          "output_type": "display_data",
          "data": {
            "text/plain": [
              "<IPython.core.display.Javascript object>"
            ],
            "application/javascript": [
              "\n",
              "    async function download(id, filename, size) {\n",
              "      if (!google.colab.kernel.accessAllowed) {\n",
              "        return;\n",
              "      }\n",
              "      const div = document.createElement('div');\n",
              "      const label = document.createElement('label');\n",
              "      label.textContent = `Downloading \"${filename}\": `;\n",
              "      div.appendChild(label);\n",
              "      const progress = document.createElement('progress');\n",
              "      progress.max = size;\n",
              "      div.appendChild(progress);\n",
              "      document.body.appendChild(div);\n",
              "\n",
              "      const buffers = [];\n",
              "      let downloaded = 0;\n",
              "\n",
              "      const channel = await google.colab.kernel.comms.open(id);\n",
              "      // Send a message to notify the kernel that we're ready.\n",
              "      channel.send({})\n",
              "\n",
              "      for await (const message of channel.messages) {\n",
              "        // Send a message to notify the kernel that we're ready.\n",
              "        channel.send({})\n",
              "        if (message.buffers) {\n",
              "          for (const buffer of message.buffers) {\n",
              "            buffers.push(buffer);\n",
              "            downloaded += buffer.byteLength;\n",
              "            progress.value = downloaded;\n",
              "          }\n",
              "        }\n",
              "      }\n",
              "      const blob = new Blob(buffers, {type: 'application/binary'});\n",
              "      const a = document.createElement('a');\n",
              "      a.href = window.URL.createObjectURL(blob);\n",
              "      a.download = filename;\n",
              "      div.appendChild(a);\n",
              "      a.click();\n",
              "      div.remove();\n",
              "    }\n",
              "  "
            ]
          },
          "metadata": {}
        },
        {
          "output_type": "display_data",
          "data": {
            "text/plain": [
              "<IPython.core.display.Javascript object>"
            ],
            "application/javascript": [
              "download(\"download_ac50e695-ec0f-49f0-8e53-ef21a2246161\", \"agrupacion.png\", 29408)"
            ]
          },
          "metadata": {}
        }
      ]
    },
    {
      "cell_type": "markdown",
      "source": [
        "# Nube de Texto"
      ],
      "metadata": {
        "id": "vE0MUsBMZsxu"
      }
    },
    {
      "cell_type": "code",
      "source": [
        "from wordcloud import WordCloud\n",
        "from collections import Counter\n",
        "import matplotlib.pyplot as plt\n",
        "import pandas as pd"
      ],
      "metadata": {
        "id": "Ouor-t2mahgM"
      },
      "execution_count": null,
      "outputs": []
    },
    {
      "cell_type": "code",
      "source": [
        "def open_excel_file(path: str) -> str:\n",
        "  df = pd.read_csv(path)\n",
        "  text_data = df['TEAM'].astype(str)\n",
        "  return ' '.join(text_data)"
      ],
      "metadata": {
        "id": "Dl_YNsfXbesm"
      },
      "execution_count": null,
      "outputs": []
    },
    {
      "cell_type": "code",
      "source": [
        "all_words = \"\"\n",
        "file_path = '/content/drive/MyDrive/Mineria de datos/ranking.csv'\n",
        "frase = open_excel_file(file_path)\n",
        "palabras = frase.rstrip().split(\" \")\n"
      ],
      "metadata": {
        "id": "5Ht3up4Hcjbo"
      },
      "execution_count": null,
      "outputs": []
    },
    {
      "cell_type": "code",
      "source": [
        "counter = Counter(\" \".join(palabras).split())\n",
        "top_words = counter.most_common(10)\n",
        "print(top_words)"
      ],
      "metadata": {
        "colab": {
          "base_uri": "https://localhost:8080/"
        },
        "id": "yH2AyAHFgcuJ",
        "outputId": "211b0ba4-e6ad-4c21-9f44-9eaa57e98898"
      },
      "execution_count": null,
      "outputs": [
        {
          "output_type": "stream",
          "name": "stdout",
          "text": [
            "[('New', 17340), ('L.A.', 11407), ('Dallas', 7026), ('Memphis', 7025), ('Minnesota', 7025), ('Golden', 7025), ('State', 7025), ('Houston', 7025), ('Milwaukee', 7025), ('Boston', 7025)]\n"
          ]
        }
      ]
    },
    {
      "cell_type": "code",
      "source": [
        "for arg in palabras:\n",
        "    tokens = arg.split()\n",
        "    all_words += \" \".join(tokens) + \" \"\n",
        "\n",
        "#print(all_words)\n",
        "wordcloud = WordCloud(\n",
        "    background_color=\"white\", min_font_size=5\n",
        ").generate(all_words)"
      ],
      "metadata": {
        "id": "ug4dlZ8PgxEO"
      },
      "execution_count": 370,
      "outputs": []
    },
    {
      "cell_type": "code",
      "source": [
        "plt.close()\n",
        "plt.figure(figsize=(5, 5), facecolor=None)\n",
        "plt.imshow(wordcloud)\n",
        "plt.axis(\"off\")\n",
        "plt.tight_layout(pad=0)\n",
        "\n",
        "# plt.show()\n",
        "plt.savefig(\"/content/drive/MyDrive/Mineria de datos/Text_Cloud.png\")\n",
        "plt.close()"
      ],
      "metadata": {
        "id": "VGqb3lCTg22i"
      },
      "execution_count": null,
      "outputs": []
    },
    {
      "cell_type": "code",
      "source": [
        "from google.colab import files\n",
        "\n",
        "files.download(\"/content/drive/MyDrive/Mineria de datos/Text_Cloud.png\")"
      ],
      "metadata": {
        "colab": {
          "base_uri": "https://localhost:8080/",
          "height": 17
        },
        "id": "T6Cx_BomihxQ",
        "outputId": "7a573b68-3767-4a9f-c9db-c8d8ab4c291b"
      },
      "execution_count": null,
      "outputs": [
        {
          "output_type": "display_data",
          "data": {
            "text/plain": [
              "<IPython.core.display.Javascript object>"
            ],
            "application/javascript": [
              "\n",
              "    async function download(id, filename, size) {\n",
              "      if (!google.colab.kernel.accessAllowed) {\n",
              "        return;\n",
              "      }\n",
              "      const div = document.createElement('div');\n",
              "      const label = document.createElement('label');\n",
              "      label.textContent = `Downloading \"${filename}\": `;\n",
              "      div.appendChild(label);\n",
              "      const progress = document.createElement('progress');\n",
              "      progress.max = size;\n",
              "      div.appendChild(progress);\n",
              "      document.body.appendChild(div);\n",
              "\n",
              "      const buffers = [];\n",
              "      let downloaded = 0;\n",
              "\n",
              "      const channel = await google.colab.kernel.comms.open(id);\n",
              "      // Send a message to notify the kernel that we're ready.\n",
              "      channel.send({})\n",
              "\n",
              "      for await (const message of channel.messages) {\n",
              "        // Send a message to notify the kernel that we're ready.\n",
              "        channel.send({})\n",
              "        if (message.buffers) {\n",
              "          for (const buffer of message.buffers) {\n",
              "            buffers.push(buffer);\n",
              "            downloaded += buffer.byteLength;\n",
              "            progress.value = downloaded;\n",
              "          }\n",
              "        }\n",
              "      }\n",
              "      const blob = new Blob(buffers, {type: 'application/binary'});\n",
              "      const a = document.createElement('a');\n",
              "      a.href = window.URL.createObjectURL(blob);\n",
              "      a.download = filename;\n",
              "      div.appendChild(a);\n",
              "      a.click();\n",
              "      div.remove();\n",
              "    }\n",
              "  "
            ]
          },
          "metadata": {}
        },
        {
          "output_type": "display_data",
          "data": {
            "text/plain": [
              "<IPython.core.display.Javascript object>"
            ],
            "application/javascript": [
              "download(\"download_38001187-5402-47e7-8d32-9099b6f1e826\", \"Text_Cloud.png\", 115370)"
            ]
          },
          "metadata": {}
        }
      ]
    }
  ]
}