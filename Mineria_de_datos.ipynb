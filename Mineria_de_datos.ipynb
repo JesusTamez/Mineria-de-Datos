{
  "nbformat": 4,
  "nbformat_minor": 0,
  "metadata": {
    "colab": {
      "provenance": [],
      "toc_visible": true,
      "authorship_tag": "ABX9TyPgbDq7Ej2xoeWRrsr56fH5",
      "include_colab_link": true
    },
    "kernelspec": {
      "name": "python3",
      "display_name": "Python 3"
    },
    "language_info": {
      "name": "python"
    }
  },
  "cells": [
    {
      "cell_type": "markdown",
      "metadata": {
        "id": "view-in-github",
        "colab_type": "text"
      },
      "source": [
        "<a href=\"https://colab.research.google.com/github/JesusTamez/Mineria-de-Datos/blob/main/Mineria_de_datos.ipynb\" target=\"_parent\"><img src=\"https://colab.research.google.com/assets/colab-badge.svg\" alt=\"Open In Colab\"/></a>"
      ]
    },
    {
      "cell_type": "code",
      "execution_count": 1,
      "metadata": {
        "id": "gCxl6B-q3xWV"
      },
      "outputs": [],
      "source": [
        "import pandas as pd"
      ]
    },
    {
      "cell_type": "code",
      "source": [
        "from google.colab import drive\n",
        "drive.mount('/content/drive')"
      ],
      "metadata": {
        "colab": {
          "base_uri": "https://localhost:8080/"
        },
        "id": "FAzs4e3Q7TXj",
        "outputId": "cd736a8c-c165-4d19-9d43-e42424a4b7c7"
      },
      "execution_count": 2,
      "outputs": [
        {
          "output_type": "stream",
          "name": "stdout",
          "text": [
            "Mounted at /content/drive\n"
          ]
        }
      ]
    },
    {
      "cell_type": "code",
      "source": [
        "df = pd.read_csv(\"/content/drive/MyDrive/Mineria de datos/ranking.csv\")"
      ],
      "metadata": {
        "id": "iLlsykaC7q61"
      },
      "execution_count": 3,
      "outputs": []
    },
    {
      "cell_type": "code",
      "source": [
        "print(df)"
      ],
      "metadata": {
        "colab": {
          "base_uri": "https://localhost:8080/"
        },
        "id": "KeeWDGSm83ZR",
        "outputId": "9955a943-ce4b-4b32-d3c2-a13558dd6057"
      },
      "execution_count": 4,
      "outputs": [
        {
          "output_type": "stream",
          "name": "stdout",
          "text": [
            "           TEAM_ID  LEAGUE_ID  SEASON_ID STANDINGSDATE CONFERENCE  \\\n",
            "0       1610612743          0      22022    2022-12-22       West   \n",
            "1       1610612763          0      22022    2022-12-22       West   \n",
            "2       1610612740          0      22022    2022-12-22       West   \n",
            "3       1610612756          0      22022    2022-12-22       West   \n",
            "4       1610612746          0      22022    2022-12-22       West   \n",
            "...            ...        ...        ...           ...        ...   \n",
            "210337  1610612765          0      22013    2014-09-01       East   \n",
            "210338  1610612738          0      22013    2014-09-01       East   \n",
            "210339  1610612753          0      22013    2014-09-01       East   \n",
            "210340  1610612755          0      22013    2014-09-01       East   \n",
            "210341  1610612749          0      22013    2014-09-01       East   \n",
            "\n",
            "                TEAM   G   W   L  W_PCT HOME_RECORD ROAD_RECORD  RETURNTOPLAY  \n",
            "0             Denver  30  19  11  0.633        10-3         9-8           NaN  \n",
            "1            Memphis  30  19  11  0.633        13-2         6-9           NaN  \n",
            "2        New Orleans  31  19  12  0.613        13-4         6-8           NaN  \n",
            "3            Phoenix  32  19  13  0.594        14-4         5-9           NaN  \n",
            "4        LA Clippers  33  19  14  0.576        11-7         8-7           NaN  \n",
            "...              ...  ..  ..  ..    ...         ...         ...           ...  \n",
            "210337       Detroit  82  29  53  0.354       17-24       12-29           NaN  \n",
            "210338        Boston  82  25  57  0.305       16-25        9-32           NaN  \n",
            "210339       Orlando  82  23  59  0.280       19-22        4-37           NaN  \n",
            "210340  Philadelphia  82  19  63  0.232       10-31        9-32           NaN  \n",
            "210341     Milwaukee  82  15  67  0.183       10-31        5-36           NaN  \n",
            "\n",
            "[210342 rows x 13 columns]\n"
          ]
        }
      ]
    },
    {
      "cell_type": "markdown",
      "source": [
        "# Limpieza de datos"
      ],
      "metadata": {
        "id": "4vzZrac89T58"
      }
    },
    {
      "cell_type": "code",
      "source": [
        "df = pd.read_csv(\"/content/drive/MyDrive/Mineria de datos/ranking.csv\")\n",
        "print(df)"
      ],
      "metadata": {
        "id": "S69YTSzc9YGz",
        "colab": {
          "base_uri": "https://localhost:8080/"
        },
        "outputId": "606e4c58-3639-4875-a1d7-4d0253b6be84"
      },
      "execution_count": 6,
      "outputs": [
        {
          "output_type": "stream",
          "name": "stdout",
          "text": [
            "           TEAM_ID  LEAGUE_ID  SEASON_ID STANDINGSDATE CONFERENCE  \\\n",
            "0       1610612743          0      22022    2022-12-22       West   \n",
            "1       1610612763          0      22022    2022-12-22       West   \n",
            "2       1610612740          0      22022    2022-12-22       West   \n",
            "3       1610612756          0      22022    2022-12-22       West   \n",
            "4       1610612746          0      22022    2022-12-22       West   \n",
            "...            ...        ...        ...           ...        ...   \n",
            "210337  1610612765          0      22013    2014-09-01       East   \n",
            "210338  1610612738          0      22013    2014-09-01       East   \n",
            "210339  1610612753          0      22013    2014-09-01       East   \n",
            "210340  1610612755          0      22013    2014-09-01       East   \n",
            "210341  1610612749          0      22013    2014-09-01       East   \n",
            "\n",
            "                TEAM   G   W   L  W_PCT HOME_RECORD ROAD_RECORD  RETURNTOPLAY  \n",
            "0             Denver  30  19  11  0.633        10-3         9-8           NaN  \n",
            "1            Memphis  30  19  11  0.633        13-2         6-9           NaN  \n",
            "2        New Orleans  31  19  12  0.613        13-4         6-8           NaN  \n",
            "3            Phoenix  32  19  13  0.594        14-4         5-9           NaN  \n",
            "4        LA Clippers  33  19  14  0.576        11-7         8-7           NaN  \n",
            "...              ...  ..  ..  ..    ...         ...         ...           ...  \n",
            "210337       Detroit  82  29  53  0.354       17-24       12-29           NaN  \n",
            "210338        Boston  82  25  57  0.305       16-25        9-32           NaN  \n",
            "210339       Orlando  82  23  59  0.280       19-22        4-37           NaN  \n",
            "210340  Philadelphia  82  19  63  0.232       10-31        9-32           NaN  \n",
            "210341     Milwaukee  82  15  67  0.183       10-31        5-36           NaN  \n",
            "\n",
            "[210342 rows x 13 columns]\n"
          ]
        }
      ]
    },
    {
      "cell_type": "code",
      "source": [
        "df_LIMP = pd.DataFrame.from_dict(df.loc[:,['TEAM_ID','SEASON_ID','STANDINGSDATE','CONFERENCE','TEAM'\n",
        ",'G','W','L','W_PCT','HOME_RECORD','ROAD_RECORD']])"
      ],
      "metadata": {
        "id": "EalCFy2MxzmY"
      },
      "execution_count": 38,
      "outputs": []
    },
    {
      "cell_type": "code",
      "source": [
        "print(df_LIMP)"
      ],
      "metadata": {
        "colab": {
          "base_uri": "https://localhost:8080/"
        },
        "id": "7sucm0hozUo3",
        "outputId": "7a5a293d-dc18-48fb-ec3d-03f38915027c"
      },
      "execution_count": 39,
      "outputs": [
        {
          "output_type": "stream",
          "name": "stdout",
          "text": [
            "           TEAM_ID  SEASON_ID STANDINGSDATE CONFERENCE          TEAM   G   W  \\\n",
            "0       1610612743      22022    2022-12-22       West        Denver  30  19   \n",
            "1       1610612763      22022    2022-12-22       West       Memphis  30  19   \n",
            "2       1610612740      22022    2022-12-22       West   New Orleans  31  19   \n",
            "3       1610612756      22022    2022-12-22       West       Phoenix  32  19   \n",
            "4       1610612746      22022    2022-12-22       West   LA Clippers  33  19   \n",
            "...            ...        ...           ...        ...           ...  ..  ..   \n",
            "210337  1610612765      22013    2014-09-01       East       Detroit  82  29   \n",
            "210338  1610612738      22013    2014-09-01       East        Boston  82  25   \n",
            "210339  1610612753      22013    2014-09-01       East       Orlando  82  23   \n",
            "210340  1610612755      22013    2014-09-01       East  Philadelphia  82  19   \n",
            "210341  1610612749      22013    2014-09-01       East     Milwaukee  82  15   \n",
            "\n",
            "         L  W_PCT HOME_RECORD ROAD_RECORD  \n",
            "0       11  0.633        10-3         9-8  \n",
            "1       11  0.633        13-2         6-9  \n",
            "2       12  0.613        13-4         6-8  \n",
            "3       13  0.594        14-4         5-9  \n",
            "4       14  0.576        11-7         8-7  \n",
            "...     ..    ...         ...         ...  \n",
            "210337  53  0.354       17-24       12-29  \n",
            "210338  57  0.305       16-25        9-32  \n",
            "210339  59  0.280       19-22        4-37  \n",
            "210340  63  0.232       10-31        9-32  \n",
            "210341  67  0.183       10-31        5-36  \n",
            "\n",
            "[210342 rows x 11 columns]\n"
          ]
        }
      ]
    },
    {
      "cell_type": "markdown",
      "source": [
        "# Estadistica Descriptiva"
      ],
      "metadata": {
        "id": "2xDR4H6H1g1S"
      }
    },
    {
      "cell_type": "code",
      "source": [
        "mean_df = df_LIMP['G'].mean()\n",
        "print(mean_df)"
      ],
      "metadata": {
        "colab": {
          "base_uri": "https://localhost:8080/"
        },
        "id": "N0iVyiAR1mxL",
        "outputId": "3ba7672d-d78f-428b-9329-44878758bdec"
      },
      "execution_count": 13,
      "outputs": [
        {
          "output_type": "stream",
          "name": "stdout",
          "text": [
            "56.659735098078365\n"
          ]
        }
      ]
    },
    {
      "cell_type": "code",
      "source": [
        "mean_df = df_LIMP['W'].mean()\n",
        "print(mean_df)"
      ],
      "metadata": {
        "colab": {
          "base_uri": "https://localhost:8080/"
        },
        "id": "fGRXEnkJ2ujs",
        "outputId": "4a71460e-04da-49e9-eaef-9481466d4337"
      },
      "execution_count": 15,
      "outputs": [
        {
          "output_type": "stream",
          "name": "stdout",
          "text": [
            "28.333357104144678\n"
          ]
        }
      ]
    },
    {
      "cell_type": "code",
      "source": [
        "mean_df = df_LIMP['L'].mean()\n",
        "print(mean_df)"
      ],
      "metadata": {
        "colab": {
          "base_uri": "https://localhost:8080/"
        },
        "id": "CHPuyf8Z2_3y",
        "outputId": "db131945-2351-4643-a0fe-a0f351bea207"
      },
      "execution_count": 16,
      "outputs": [
        {
          "output_type": "stream",
          "name": "stdout",
          "text": [
            "28.32637799393369\n"
          ]
        }
      ]
    },
    {
      "cell_type": "code",
      "source": [
        "#Se va a imprimir la media, mediana y moda de las victoria (G)"
      ],
      "metadata": {
        "id": "LUmanlyB3NIa"
      },
      "execution_count": 20,
      "outputs": []
    },
    {
      "cell_type": "code",
      "source": [
        "media = df['G'].mean()\n",
        "mediana = df['G'].median()\n",
        "moda = df['G'].mode()"
      ],
      "metadata": {
        "id": "WwG4vJDP3Vhm"
      },
      "execution_count": 21,
      "outputs": []
    },
    {
      "cell_type": "code",
      "source": [
        "print(\"\"\"Media Victorias: %d\n",
        "Mediana Victorias: %d\n",
        "Moda Victorias: %d\"\"\" % (media,mediana,moda))"
      ],
      "metadata": {
        "colab": {
          "base_uri": "https://localhost:8080/"
        },
        "id": "aS-_QWUY3nO1",
        "outputId": "0a7cd133-5af4-4aa0-b39c-0a789e8302e6"
      },
      "execution_count": 22,
      "outputs": [
        {
          "output_type": "stream",
          "name": "stdout",
          "text": [
            "Media Victorias: 56\n",
            "Mediana Victorias: 67\n",
            "Moda Victorias: 82\n"
          ]
        }
      ]
    },
    {
      "cell_type": "code",
      "source": [
        "#Se va a imprimir la media, mediana y moda de los Empates"
      ],
      "metadata": {
        "id": "4xqZn11h4Q3z"
      },
      "execution_count": 19,
      "outputs": []
    },
    {
      "cell_type": "code",
      "source": [
        "media = df['W'].mean()\n",
        "mediana = df['W'].median()\n",
        "moda = df['W'].mode()"
      ],
      "metadata": {
        "id": "-gqtiPT04Xsu"
      },
      "execution_count": 25,
      "outputs": []
    },
    {
      "cell_type": "code",
      "source": [
        "print(\"\"\"Media Empates: %d\n",
        "Mediana Empates: %d\n",
        "Moda Empates: %d\"\"\" % (media,mediana,moda))"
      ],
      "metadata": {
        "colab": {
          "base_uri": "https://localhost:8080/"
        },
        "id": "Fp6r4mu-4n1i",
        "outputId": "89b9e421-7f6c-4b4b-b28d-404bebf378de"
      },
      "execution_count": 26,
      "outputs": [
        {
          "output_type": "stream",
          "name": "stdout",
          "text": [
            "Media Empates: 28\n",
            "Mediana Empates: 28\n",
            "Moda Empates: 0\n"
          ]
        }
      ]
    },
    {
      "cell_type": "code",
      "source": [
        "#Se va a imprimir la media, mediana y moda de las Derrotas"
      ],
      "metadata": {
        "id": "LX3tz55u5fsM"
      },
      "execution_count": 27,
      "outputs": []
    },
    {
      "cell_type": "code",
      "source": [
        "media = df['L'].mean()\n",
        "mediana = df['L'].median()\n",
        "moda = df['L'].mode()"
      ],
      "metadata": {
        "id": "PK46_W1x5kCy"
      },
      "execution_count": 28,
      "outputs": []
    },
    {
      "cell_type": "code",
      "source": [
        "print(\"\"\"Media Derrotas: %d\n",
        "Mediana Derrotas: %d\n",
        "Moda Derrotas: %d\"\"\" % (media,mediana,moda))"
      ],
      "metadata": {
        "colab": {
          "base_uri": "https://localhost:8080/"
        },
        "id": "RwxgArNW5ps5",
        "outputId": "871a38f0-33c2-47e9-9152-2cad620e64ae"
      },
      "execution_count": 31,
      "outputs": [
        {
          "output_type": "stream",
          "name": "stdout",
          "text": [
            "Media Derrotas: 28\n",
            "Mediana Derrotas: 29\n",
            "Moda Derrotas: 0\n"
          ]
        }
      ]
    },
    {
      "cell_type": "markdown",
      "source": [
        "# Visualizacion de datos\n"
      ],
      "metadata": {
        "id": "C7lPo1F3BVdQ"
      }
    },
    {
      "cell_type": "code",
      "source": [
        "import matplotlib.pyplot as plt"
      ],
      "metadata": {
        "id": "6hSYUID3Bbbu"
      },
      "execution_count": 32,
      "outputs": []
    },
    {
      "cell_type": "code",
      "source": [
        "df_LIMP = pd.DataFrame.from_dict(df.loc[:,['TEAM_ID','SEASON_ID','STANDINGSDATE','CONFERENCE','TEAM'\n",
        ",'G','W','L','W_PCT','HOME_RECORD','ROAD_RECORD']])\n",
        "print(df_LIMP)"
      ],
      "metadata": {
        "colab": {
          "base_uri": "https://localhost:8080/"
        },
        "id": "57Fqn3j1B6Qg",
        "outputId": "34064425-c5d7-483c-e132-c6ab0fe0c60c"
      },
      "execution_count": 40,
      "outputs": [
        {
          "output_type": "stream",
          "name": "stdout",
          "text": [
            "           TEAM_ID  SEASON_ID STANDINGSDATE CONFERENCE          TEAM   G   W  \\\n",
            "0       1610612743      22022    2022-12-22       West        Denver  30  19   \n",
            "1       1610612763      22022    2022-12-22       West       Memphis  30  19   \n",
            "2       1610612740      22022    2022-12-22       West   New Orleans  31  19   \n",
            "3       1610612756      22022    2022-12-22       West       Phoenix  32  19   \n",
            "4       1610612746      22022    2022-12-22       West   LA Clippers  33  19   \n",
            "...            ...        ...           ...        ...           ...  ..  ..   \n",
            "210337  1610612765      22013    2014-09-01       East       Detroit  82  29   \n",
            "210338  1610612738      22013    2014-09-01       East        Boston  82  25   \n",
            "210339  1610612753      22013    2014-09-01       East       Orlando  82  23   \n",
            "210340  1610612755      22013    2014-09-01       East  Philadelphia  82  19   \n",
            "210341  1610612749      22013    2014-09-01       East     Milwaukee  82  15   \n",
            "\n",
            "         L  W_PCT HOME_RECORD ROAD_RECORD  \n",
            "0       11  0.633        10-3         9-8  \n",
            "1       11  0.633        13-2         6-9  \n",
            "2       12  0.613        13-4         6-8  \n",
            "3       13  0.594        14-4         5-9  \n",
            "4       14  0.576        11-7         8-7  \n",
            "...     ..    ...         ...         ...  \n",
            "210337  53  0.354       17-24       12-29  \n",
            "210338  57  0.305       16-25        9-32  \n",
            "210339  59  0.280       19-22        4-37  \n",
            "210340  63  0.232       10-31        9-32  \n",
            "210341  67  0.183       10-31        5-36  \n",
            "\n",
            "[210342 rows x 11 columns]\n"
          ]
        }
      ]
    },
    {
      "cell_type": "code",
      "source": [
        "#Se graficara las victorias de algunos equipos"
      ],
      "metadata": {
        "id": "yjcnMxtSCbmx"
      },
      "execution_count": 36,
      "outputs": []
    },
    {
      "cell_type": "code",
      "source": [
        "df_10 = df.head(10)\n",
        "print(df_10)"
      ],
      "metadata": {
        "colab": {
          "base_uri": "https://localhost:8080/"
        },
        "id": "4NutIQfSHjvY",
        "outputId": "14551f11-65fb-46a0-d317-8e4b46f28fb6"
      },
      "execution_count": 46,
      "outputs": [
        {
          "output_type": "stream",
          "name": "stdout",
          "text": [
            "      TEAM_ID  LEAGUE_ID  SEASON_ID STANDINGSDATE CONFERENCE         TEAM   G  \\\n",
            "0  1610612743          0      22022    2022-12-22       West       Denver  30   \n",
            "1  1610612763          0      22022    2022-12-22       West      Memphis  30   \n",
            "2  1610612740          0      22022    2022-12-22       West  New Orleans  31   \n",
            "3  1610612756          0      22022    2022-12-22       West      Phoenix  32   \n",
            "4  1610612746          0      22022    2022-12-22       West  LA Clippers  33   \n",
            "5  1610612758          0      22022    2022-12-22       West   Sacramento  30   \n",
            "6  1610612762          0      22022    2022-12-22       West         Utah  35   \n",
            "7  1610612757          0      22022    2022-12-22       West     Portland  32   \n",
            "8  1610612742          0      22022    2022-12-22       West       Dallas  32   \n",
            "9  1610612750          0      22022    2022-12-22       West    Minnesota  32   \n",
            "\n",
            "    W   L  W_PCT HOME_RECORD ROAD_RECORD  RETURNTOPLAY  \n",
            "0  19  11  0.633        10-3         9-8           NaN  \n",
            "1  19  11  0.633        13-2         6-9           NaN  \n",
            "2  19  12  0.613        13-4         6-8           NaN  \n",
            "3  19  13  0.594        14-4         5-9           NaN  \n",
            "4  19  14  0.576        11-7         8-7           NaN  \n",
            "5  17  13  0.567         9-5         8-8           NaN  \n",
            "6  19  16  0.543        12-5        7-11           NaN  \n",
            "7  17  15  0.531         7-6        10-9           NaN  \n",
            "8  16  16  0.500        12-5        4-11           NaN  \n",
            "9  16  16  0.500         9-8         7-8           NaN  \n"
          ]
        }
      ]
    },
    {
      "cell_type": "code",
      "source": [
        "fig, ax = plt.subplots()\n",
        "\n",
        "x = df_10['TEAM']\n",
        "y = df_10['G']\n",
        "ax.bar(x,y)\n",
        "\n",
        "ax.set_xlabel(\"Equipos\")\n",
        "ax.set_ylabel(\"Victorias\")\n",
        "ax.set_title(\"Victorias de los Primero 10 Equipos\")\n",
        "\n",
        "plt.xticks(rotation=90)\n",
        "plt.show()"
      ],
      "metadata": {
        "colab": {
          "base_uri": "https://localhost:8080/",
          "height": 546
        },
        "id": "B5q5i4iJIBNV",
        "outputId": "5775aca4-b48e-448e-aba9-8633e391ea65"
      },
      "execution_count": 48,
      "outputs": [
        {
          "output_type": "display_data",
          "data": {
            "text/plain": [
              "<Figure size 640x480 with 1 Axes>"
            ],
            "image/png": "[encoded data removed]"
          },
          "metadata": {}
        }
      ]
    }
  ]
}