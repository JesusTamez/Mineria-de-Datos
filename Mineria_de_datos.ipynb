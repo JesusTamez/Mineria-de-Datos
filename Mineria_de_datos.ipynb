{
  "nbformat": 4,
  "nbformat_minor": 0,
  "metadata": {
    "colab": {
      "provenance": [],
      "toc_visible": true,
      "authorship_tag": "ABX9TyPsHTSS0Vhp1iRKNuUC0V5r",
      "include_colab_link": true
    },
    "kernelspec": {
      "name": "python3",
      "display_name": "Python 3"
    },
    "language_info": {
      "name": "python"
    }
  },
  "cells": [
    {
      "cell_type": "markdown",
      "metadata": {
        "id": "view-in-github",
        "colab_type": "text"
      },
      "source": [
        "<a href=\"https://colab.research.google.com/github/JesusTamez/Mineria-de-Datos/blob/main/Mineria_de_datos.ipynb\" target=\"_parent\"><img src=\"https://colab.research.google.com/assets/colab-badge.svg\" alt=\"Open In Colab\"/></a>"
      ]
    },
    {
      "cell_type": "code",
      "execution_count": 1,
      "metadata": {
        "id": "gCxl6B-q3xWV"
      },
      "outputs": [],
      "source": [
        "import pandas as pd"
      ]
    },
    {
      "cell_type": "code",
      "source": [
        "from google.colab import drive\n",
        "drive.mount('/content/drive')"
      ],
      "metadata": {
        "colab": {
          "base_uri": "https://localhost:8080/"
        },
        "id": "FAzs4e3Q7TXj",
        "outputId": "92437f01-92e2-47ef-a025-1688bd6cee3b"
      },
      "execution_count": 2,
      "outputs": [
        {
          "output_type": "stream",
          "name": "stdout",
          "text": [
            "Mounted at /content/drive\n"
          ]
        }
      ]
    },
    {
      "cell_type": "code",
      "source": [
        "df = pd.read_csv(\"/content/drive/MyDrive/Mineria de datos/ranking.csv\")"
      ],
      "metadata": {
        "id": "iLlsykaC7q61"
      },
      "execution_count": 3,
      "outputs": []
    },
    {
      "cell_type": "code",
      "source": [
        "print(df)"
      ],
      "metadata": {
        "colab": {
          "base_uri": "https://localhost:8080/"
        },
        "id": "KeeWDGSm83ZR",
        "outputId": "f829817f-6183-4cd1-c2e0-76d8bb56723c"
      },
      "execution_count": 4,
      "outputs": [
        {
          "output_type": "stream",
          "name": "stdout",
          "text": [
            "           TEAM_ID  LEAGUE_ID  SEASON_ID STANDINGSDATE CONFERENCE  \\\n",
            "0       1610612743          0      22022    2022-12-22       West   \n",
            "1       1610612763          0      22022    2022-12-22       West   \n",
            "2       1610612740          0      22022    2022-12-22       West   \n",
            "3       1610612756          0      22022    2022-12-22       West   \n",
            "4       1610612746          0      22022    2022-12-22       West   \n",
            "...            ...        ...        ...           ...        ...   \n",
            "210337  1610612765          0      22013    2014-09-01       East   \n",
            "210338  1610612738          0      22013    2014-09-01       East   \n",
            "210339  1610612753          0      22013    2014-09-01       East   \n",
            "210340  1610612755          0      22013    2014-09-01       East   \n",
            "210341  1610612749          0      22013    2014-09-01       East   \n",
            "\n",
            "                TEAM   G   W   L  W_PCT HOME_RECORD ROAD_RECORD  RETURNTOPLAY  \n",
            "0             Denver  30  19  11  0.633        10-3         9-8           NaN  \n",
            "1            Memphis  30  19  11  0.633        13-2         6-9           NaN  \n",
            "2        New Orleans  31  19  12  0.613        13-4         6-8           NaN  \n",
            "3            Phoenix  32  19  13  0.594        14-4         5-9           NaN  \n",
            "4        LA Clippers  33  19  14  0.576        11-7         8-7           NaN  \n",
            "...              ...  ..  ..  ..    ...         ...         ...           ...  \n",
            "210337       Detroit  82  29  53  0.354       17-24       12-29           NaN  \n",
            "210338        Boston  82  25  57  0.305       16-25        9-32           NaN  \n",
            "210339       Orlando  82  23  59  0.280       19-22        4-37           NaN  \n",
            "210340  Philadelphia  82  19  63  0.232       10-31        9-32           NaN  \n",
            "210341     Milwaukee  82  15  67  0.183       10-31        5-36           NaN  \n",
            "\n",
            "[210342 rows x 13 columns]\n"
          ]
        }
      ]
    },
    {
      "cell_type": "markdown",
      "source": [
        "# Limpieza de datos"
      ],
      "metadata": {
        "id": "4vzZrac89T58"
      }
    },
    {
      "cell_type": "code",
      "source": [
        "import pandas as pd"
      ],
      "metadata": {
        "id": "OzifjMM5IJEP"
      },
      "execution_count": 5,
      "outputs": []
    },
    {
      "cell_type": "code",
      "source": [
        "df = pd.read_csv(\"/content/drive/MyDrive/Mineria de datos/ranking.csv\")\n",
        "print(df)"
      ],
      "metadata": {
        "id": "S69YTSzc9YGz",
        "colab": {
          "base_uri": "https://localhost:8080/"
        },
        "outputId": "f43c6c0a-02b0-44f9-ec43-1691e57c11c2"
      },
      "execution_count": 6,
      "outputs": [
        {
          "output_type": "stream",
          "name": "stdout",
          "text": [
            "           TEAM_ID  LEAGUE_ID  SEASON_ID STANDINGSDATE CONFERENCE  \\\n",
            "0       1610612743          0      22022    2022-12-22       West   \n",
            "1       1610612763          0      22022    2022-12-22       West   \n",
            "2       1610612740          0      22022    2022-12-22       West   \n",
            "3       1610612756          0      22022    2022-12-22       West   \n",
            "4       1610612746          0      22022    2022-12-22       West   \n",
            "...            ...        ...        ...           ...        ...   \n",
            "210337  1610612765          0      22013    2014-09-01       East   \n",
            "210338  1610612738          0      22013    2014-09-01       East   \n",
            "210339  1610612753          0      22013    2014-09-01       East   \n",
            "210340  1610612755          0      22013    2014-09-01       East   \n",
            "210341  1610612749          0      22013    2014-09-01       East   \n",
            "\n",
            "                TEAM   G   W   L  W_PCT HOME_RECORD ROAD_RECORD  RETURNTOPLAY  \n",
            "0             Denver  30  19  11  0.633        10-3         9-8           NaN  \n",
            "1            Memphis  30  19  11  0.633        13-2         6-9           NaN  \n",
            "2        New Orleans  31  19  12  0.613        13-4         6-8           NaN  \n",
            "3            Phoenix  32  19  13  0.594        14-4         5-9           NaN  \n",
            "4        LA Clippers  33  19  14  0.576        11-7         8-7           NaN  \n",
            "...              ...  ..  ..  ..    ...         ...         ...           ...  \n",
            "210337       Detroit  82  29  53  0.354       17-24       12-29           NaN  \n",
            "210338        Boston  82  25  57  0.305       16-25        9-32           NaN  \n",
            "210339       Orlando  82  23  59  0.280       19-22        4-37           NaN  \n",
            "210340  Philadelphia  82  19  63  0.232       10-31        9-32           NaN  \n",
            "210341     Milwaukee  82  15  67  0.183       10-31        5-36           NaN  \n",
            "\n",
            "[210342 rows x 13 columns]\n"
          ]
        }
      ]
    },
    {
      "cell_type": "code",
      "source": [
        "df_LIMP = pd.DataFrame.from_dict(df.loc[:,['TEAM_ID','SEASON_ID','STANDINGSDATE','CONFERENCE','TEAM'\n",
        ",'G','W','L','W_PCT','HOME_RECORD','ROAD_RECORD']])"
      ],
      "metadata": {
        "id": "EalCFy2MxzmY"
      },
      "execution_count": 7,
      "outputs": []
    },
    {
      "cell_type": "code",
      "source": [
        "print(df_LIMP)"
      ],
      "metadata": {
        "colab": {
          "base_uri": "https://localhost:8080/"
        },
        "id": "7sucm0hozUo3",
        "outputId": "0bd2c169-3bb9-478b-e8d8-fb4fdd6fd6fb"
      },
      "execution_count": 8,
      "outputs": [
        {
          "output_type": "stream",
          "name": "stdout",
          "text": [
            "           TEAM_ID  SEASON_ID STANDINGSDATE CONFERENCE          TEAM   G   W  \\\n",
            "0       1610612743      22022    2022-12-22       West        Denver  30  19   \n",
            "1       1610612763      22022    2022-12-22       West       Memphis  30  19   \n",
            "2       1610612740      22022    2022-12-22       West   New Orleans  31  19   \n",
            "3       1610612756      22022    2022-12-22       West       Phoenix  32  19   \n",
            "4       1610612746      22022    2022-12-22       West   LA Clippers  33  19   \n",
            "...            ...        ...           ...        ...           ...  ..  ..   \n",
            "210337  1610612765      22013    2014-09-01       East       Detroit  82  29   \n",
            "210338  1610612738      22013    2014-09-01       East        Boston  82  25   \n",
            "210339  1610612753      22013    2014-09-01       East       Orlando  82  23   \n",
            "210340  1610612755      22013    2014-09-01       East  Philadelphia  82  19   \n",
            "210341  1610612749      22013    2014-09-01       East     Milwaukee  82  15   \n",
            "\n",
            "         L  W_PCT HOME_RECORD ROAD_RECORD  \n",
            "0       11  0.633        10-3         9-8  \n",
            "1       11  0.633        13-2         6-9  \n",
            "2       12  0.613        13-4         6-8  \n",
            "3       13  0.594        14-4         5-9  \n",
            "4       14  0.576        11-7         8-7  \n",
            "...     ..    ...         ...         ...  \n",
            "210337  53  0.354       17-24       12-29  \n",
            "210338  57  0.305       16-25        9-32  \n",
            "210339  59  0.280       19-22        4-37  \n",
            "210340  63  0.232       10-31        9-32  \n",
            "210341  67  0.183       10-31        5-36  \n",
            "\n",
            "[210342 rows x 11 columns]\n"
          ]
        }
      ]
    },
    {
      "cell_type": "markdown",
      "source": [
        "# Estadistica Descriptiva"
      ],
      "metadata": {
        "id": "2xDR4H6H1g1S"
      }
    },
    {
      "cell_type": "code",
      "source": [
        "import pandas as pd"
      ],
      "metadata": {
        "id": "ReM0E7pmIWZh"
      },
      "execution_count": 9,
      "outputs": []
    },
    {
      "cell_type": "code",
      "source": [
        "df = pd.read_csv(\"/content/drive/MyDrive/Mineria de datos/ranking.csv\")"
      ],
      "metadata": {
        "id": "0VMpETCSIhTO"
      },
      "execution_count": 10,
      "outputs": []
    },
    {
      "cell_type": "code",
      "source": [
        "df_LIMP = pd.DataFrame.from_dict(df.loc[:,['TEAM_ID','SEASON_ID','STANDINGSDATE','CONFERENCE','TEAM'\n",
        ",'G','W','L','W_PCT','HOME_RECORD','ROAD_RECORD']])\n",
        "print(df_LIMP)"
      ],
      "metadata": {
        "colab": {
          "base_uri": "https://localhost:8080/"
        },
        "id": "p1DJQ2JCIlw4",
        "outputId": "8fa8ac48-9dcb-4d9c-a7c2-a1b8e923d244"
      },
      "execution_count": 11,
      "outputs": [
        {
          "output_type": "stream",
          "name": "stdout",
          "text": [
            "           TEAM_ID  SEASON_ID STANDINGSDATE CONFERENCE          TEAM   G   W  \\\n",
            "0       1610612743      22022    2022-12-22       West        Denver  30  19   \n",
            "1       1610612763      22022    2022-12-22       West       Memphis  30  19   \n",
            "2       1610612740      22022    2022-12-22       West   New Orleans  31  19   \n",
            "3       1610612756      22022    2022-12-22       West       Phoenix  32  19   \n",
            "4       1610612746      22022    2022-12-22       West   LA Clippers  33  19   \n",
            "...            ...        ...           ...        ...           ...  ..  ..   \n",
            "210337  1610612765      22013    2014-09-01       East       Detroit  82  29   \n",
            "210338  1610612738      22013    2014-09-01       East        Boston  82  25   \n",
            "210339  1610612753      22013    2014-09-01       East       Orlando  82  23   \n",
            "210340  1610612755      22013    2014-09-01       East  Philadelphia  82  19   \n",
            "210341  1610612749      22013    2014-09-01       East     Milwaukee  82  15   \n",
            "\n",
            "         L  W_PCT HOME_RECORD ROAD_RECORD  \n",
            "0       11  0.633        10-3         9-8  \n",
            "1       11  0.633        13-2         6-9  \n",
            "2       12  0.613        13-4         6-8  \n",
            "3       13  0.594        14-4         5-9  \n",
            "4       14  0.576        11-7         8-7  \n",
            "...     ..    ...         ...         ...  \n",
            "210337  53  0.354       17-24       12-29  \n",
            "210338  57  0.305       16-25        9-32  \n",
            "210339  59  0.280       19-22        4-37  \n",
            "210340  63  0.232       10-31        9-32  \n",
            "210341  67  0.183       10-31        5-36  \n",
            "\n",
            "[210342 rows x 11 columns]\n"
          ]
        }
      ]
    },
    {
      "cell_type": "code",
      "source": [
        "#Se esta sacando el promedio de las Victorias\n",
        "mean_df = df_LIMP['W'].mean()\n",
        "print(mean_df)"
      ],
      "metadata": {
        "colab": {
          "base_uri": "https://localhost:8080/"
        },
        "id": "fGRXEnkJ2ujs",
        "outputId": "903a393d-f2b2-4160-850f-cc0bc2092e0b"
      },
      "execution_count": 13,
      "outputs": [
        {
          "output_type": "stream",
          "name": "stdout",
          "text": [
            "28.333357104144678\n"
          ]
        }
      ]
    },
    {
      "cell_type": "code",
      "source": [
        "#Se esta sacando el promedio de las Derrotas\n",
        "mean_df = df_LIMP['L'].mean()\n",
        "print(mean_df)"
      ],
      "metadata": {
        "colab": {
          "base_uri": "https://localhost:8080/"
        },
        "id": "CHPuyf8Z2_3y",
        "outputId": "5229ab41-0272-432d-aa08-130c788fd41c"
      },
      "execution_count": 14,
      "outputs": [
        {
          "output_type": "stream",
          "name": "stdout",
          "text": [
            "28.32637799393369\n"
          ]
        }
      ]
    },
    {
      "cell_type": "code",
      "source": [
        "#Se va a imprimir la media, mediana y moda de las Victorias"
      ],
      "metadata": {
        "id": "4xqZn11h4Q3z"
      },
      "execution_count": 15,
      "outputs": []
    },
    {
      "cell_type": "code",
      "source": [
        "media = df['W'].mean()\n",
        "mediana = df['W'].median()\n",
        "moda = df['W'].mode()"
      ],
      "metadata": {
        "id": "-gqtiPT04Xsu"
      },
      "execution_count": 16,
      "outputs": []
    },
    {
      "cell_type": "code",
      "source": [
        "print(\"\"\"Media Victorias: %d\n",
        "Mediana Victorias: %d\n",
        "Moda Victorias: %d\"\"\" % (media,mediana,moda))"
      ],
      "metadata": {
        "colab": {
          "base_uri": "https://localhost:8080/"
        },
        "id": "Fp6r4mu-4n1i",
        "outputId": "e67df982-f2b0-49f9-c4fd-e0cf9f16cc21"
      },
      "execution_count": 17,
      "outputs": [
        {
          "output_type": "stream",
          "name": "stdout",
          "text": [
            "Media Victorias: 28\n",
            "Mediana Victorias: 28\n",
            "Moda Victorias: 0\n"
          ]
        }
      ]
    },
    {
      "cell_type": "code",
      "source": [
        "#Se va a imprimir la media, mediana y moda de las Derrotas"
      ],
      "metadata": {
        "id": "LX3tz55u5fsM"
      },
      "execution_count": 18,
      "outputs": []
    },
    {
      "cell_type": "code",
      "source": [
        "media = df['L'].mean()\n",
        "mediana = df['L'].median()\n",
        "moda = df['L'].mode()"
      ],
      "metadata": {
        "id": "PK46_W1x5kCy"
      },
      "execution_count": 19,
      "outputs": []
    },
    {
      "cell_type": "code",
      "source": [
        "print(\"\"\"Media Derrotas: %d\n",
        "Mediana Derrotas: %d\n",
        "Moda Derrotas: %d\"\"\" % (media,mediana,moda))"
      ],
      "metadata": {
        "colab": {
          "base_uri": "https://localhost:8080/"
        },
        "id": "RwxgArNW5ps5",
        "outputId": "107e0f3f-f908-4630-a0b6-914ca14fa089"
      },
      "execution_count": 20,
      "outputs": [
        {
          "output_type": "stream",
          "name": "stdout",
          "text": [
            "Media Derrotas: 28\n",
            "Mediana Derrotas: 29\n",
            "Moda Derrotas: 0\n"
          ]
        }
      ]
    },
    {
      "cell_type": "markdown",
      "source": [
        "# Visualizacion de datos\n"
      ],
      "metadata": {
        "id": "C7lPo1F3BVdQ"
      }
    },
    {
      "cell_type": "code",
      "source": [
        "import matplotlib.pyplot as plt"
      ],
      "metadata": {
        "id": "6hSYUID3Bbbu"
      },
      "execution_count": 24,
      "outputs": []
    },
    {
      "cell_type": "code",
      "source": [
        "df_LIMP = pd.DataFrame.from_dict(df.loc[:,['TEAM_ID','SEASON_ID','STANDINGSDATE','CONFERENCE','TEAM'\n",
        ",'G','W','L','W_PCT','HOME_RECORD','ROAD_RECORD']])\n",
        "print(df_LIMP)"
      ],
      "metadata": {
        "colab": {
          "base_uri": "https://localhost:8080/"
        },
        "id": "57Fqn3j1B6Qg",
        "outputId": "c908bc7a-e43e-4b47-901a-8296bd761c68"
      },
      "execution_count": 25,
      "outputs": [
        {
          "output_type": "stream",
          "name": "stdout",
          "text": [
            "           TEAM_ID  SEASON_ID STANDINGSDATE CONFERENCE          TEAM   G   W  \\\n",
            "0       1610612743      22022    2022-12-22       West        Denver  30  19   \n",
            "1       1610612763      22022    2022-12-22       West       Memphis  30  19   \n",
            "2       1610612740      22022    2022-12-22       West   New Orleans  31  19   \n",
            "3       1610612756      22022    2022-12-22       West       Phoenix  32  19   \n",
            "4       1610612746      22022    2022-12-22       West   LA Clippers  33  19   \n",
            "...            ...        ...           ...        ...           ...  ..  ..   \n",
            "210337  1610612765      22013    2014-09-01       East       Detroit  82  29   \n",
            "210338  1610612738      22013    2014-09-01       East        Boston  82  25   \n",
            "210339  1610612753      22013    2014-09-01       East       Orlando  82  23   \n",
            "210340  1610612755      22013    2014-09-01       East  Philadelphia  82  19   \n",
            "210341  1610612749      22013    2014-09-01       East     Milwaukee  82  15   \n",
            "\n",
            "         L  W_PCT HOME_RECORD ROAD_RECORD  \n",
            "0       11  0.633        10-3         9-8  \n",
            "1       11  0.633        13-2         6-9  \n",
            "2       12  0.613        13-4         6-8  \n",
            "3       13  0.594        14-4         5-9  \n",
            "4       14  0.576        11-7         8-7  \n",
            "...     ..    ...         ...         ...  \n",
            "210337  53  0.354       17-24       12-29  \n",
            "210338  57  0.305       16-25        9-32  \n",
            "210339  59  0.280       19-22        4-37  \n",
            "210340  63  0.232       10-31        9-32  \n",
            "210341  67  0.183       10-31        5-36  \n",
            "\n",
            "[210342 rows x 11 columns]\n"
          ]
        }
      ]
    },
    {
      "cell_type": "code",
      "source": [
        "#Se graficara las Victorias de los Primeros 15 Equipos"
      ],
      "metadata": {
        "id": "yjcnMxtSCbmx"
      },
      "execution_count": 32,
      "outputs": []
    },
    {
      "cell_type": "code",
      "source": [
        "df_LIMP_15= df_LIMP.head(15)\n",
        "print(df_LIMP_15)"
      ],
      "metadata": {
        "colab": {
          "base_uri": "https://localhost:8080/"
        },
        "id": "4NutIQfSHjvY",
        "outputId": "d608d55f-b401-4ab0-8f8c-50e82cf223fa"
      },
      "execution_count": 31,
      "outputs": [
        {
          "output_type": "stream",
          "name": "stdout",
          "text": [
            "       TEAM_ID  SEASON_ID STANDINGSDATE CONFERENCE           TEAM   G   W   L  \\\n",
            "0   1610612743      22022    2022-12-22       West         Denver  30  19  11   \n",
            "1   1610612763      22022    2022-12-22       West        Memphis  30  19  11   \n",
            "2   1610612740      22022    2022-12-22       West    New Orleans  31  19  12   \n",
            "3   1610612756      22022    2022-12-22       West        Phoenix  32  19  13   \n",
            "4   1610612746      22022    2022-12-22       West    LA Clippers  33  19  14   \n",
            "5   1610612758      22022    2022-12-22       West     Sacramento  30  17  13   \n",
            "6   1610612762      22022    2022-12-22       West           Utah  35  19  16   \n",
            "7   1610612757      22022    2022-12-22       West       Portland  32  17  15   \n",
            "8   1610612742      22022    2022-12-22       West         Dallas  32  16  16   \n",
            "9   1610612750      22022    2022-12-22       West      Minnesota  32  16  16   \n",
            "10  1610612744      22022    2022-12-22       West   Golden State  33  15  18   \n",
            "11  1610612760      22022    2022-12-22       West  Oklahoma City  32  14  18   \n",
            "12  1610612747      22022    2022-12-22       West    L.A. Lakers  31  13  18   \n",
            "13  1610612759      22022    2022-12-22       West    San Antonio  31  10  21   \n",
            "14  1610612745      22022    2022-12-22       West        Houston  31   9  22   \n",
            "\n",
            "    W_PCT HOME_RECORD ROAD_RECORD  \n",
            "0   0.633        10-3         9-8  \n",
            "1   0.633        13-2         6-9  \n",
            "2   0.613        13-4         6-8  \n",
            "3   0.594        14-4         5-9  \n",
            "4   0.576        11-7         8-7  \n",
            "5   0.567         9-5         8-8  \n",
            "6   0.543        12-5        7-11  \n",
            "7   0.531         7-6        10-9  \n",
            "8   0.500        12-5        4-11  \n",
            "9   0.500         9-8         7-8  \n",
            "10  0.455        12-2        3-16  \n",
            "11  0.438         9-7        5-11  \n",
            "12  0.419         8-7        5-11  \n",
            "13  0.323        5-12         5-9  \n",
            "14  0.290         6-9        3-13  \n"
          ]
        }
      ]
    },
    {
      "cell_type": "code",
      "source": [
        "fig, ax = plt.subplots()\n",
        "\n",
        "x = df_LIMP_15['TEAM']\n",
        "y = df_LIMP_15['W']\n",
        "ax.bar(x,y)\n",
        "\n",
        "ax.set_xlabel(\"Equipos\")\n",
        "ax.set_ylabel(\"Victorias\")\n",
        "ax.set_title(\"Victorias de los Primero 15 Equipos\")\n",
        "\n",
        "plt.xticks(rotation=90)\n",
        "plt.show()"
      ],
      "metadata": {
        "colab": {
          "base_uri": "https://localhost:8080/",
          "height": 560
        },
        "id": "B5q5i4iJIBNV",
        "outputId": "742ba9d0-590f-4486-c4eb-f41009843292"
      },
      "execution_count": 33,
      "outputs": [
        {
          "output_type": "display_data",
          "data": {
            "text/plain": [
              "<Figure size 640x480 with 1 Axes>"
            ],
            "image/png": "[encoded data removed]"
          },
          "metadata": {}
        }
      ]
    },
    {
      "cell_type": "code",
      "source": [
        "#Se graficara las Derrotas de los Primeros 15 Equipos"
      ],
      "metadata": {
        "id": "i2Zm-hX9JzaY"
      },
      "execution_count": 34,
      "outputs": []
    },
    {
      "cell_type": "code",
      "source": [
        "fig, ax = plt.subplots()\n",
        "\n",
        "x = df_LIMP_15['TEAM']\n",
        "y = df_LIMP_15['L']\n",
        "ax.bar(x,y)\n",
        "\n",
        "ax.set_xlabel(\"Equipos\")\n",
        "ax.set_ylabel(\"Derrotas\")\n",
        "ax.set_title(\"Derrotas de los Primero 15 Equipos\")\n",
        "\n",
        "plt.xticks(rotation=90)\n",
        "plt.show()\n"
      ],
      "metadata": {
        "colab": {
          "base_uri": "https://localhost:8080/",
          "height": 560
        },
        "id": "Axg1rlTgJmuF",
        "outputId": "a593abc3-c828-401b-a9be-40c953787c5a"
      },
      "execution_count": 35,
      "outputs": [
        {
          "output_type": "display_data",
          "data": {
            "text/plain": [
              "<Figure size 640x480 with 1 Axes>"
            ],
            "image/png": "[encoded data removed]"
          },
          "metadata": {}
        }
      ]
    },
    {
      "cell_type": "markdown",
      "source": [
        "# Prueba estadistica"
      ],
      "metadata": {
        "id": "xruKBRqwKcfn"
      }
    },
    {
      "cell_type": "code",
      "source": [
        "import plotly.graph_objects as go\n"
      ],
      "metadata": {
        "id": "xSKYfcBzKunT"
      },
      "execution_count": 36,
      "outputs": []
    },
    {
      "cell_type": "code",
      "source": [
        "df = pd.read_csv(\"/content/drive/MyDrive/Mineria de datos/ranking.csv\")"
      ],
      "metadata": {
        "id": "kEEHRRZsMbzk"
      },
      "execution_count": 37,
      "outputs": []
    },
    {
      "cell_type": "code",
      "source": [
        "df_LIMP = pd.DataFrame.from_dict(df.loc[:,['TEAM_ID','SEASON_ID','STANDINGSDATE','CONFERENCE','TEAM'\n",
        ",'G','W','L','W_PCT','HOME_RECORD','ROAD_RECORD']])\n",
        "print(df_LIMP)"
      ],
      "metadata": {
        "colab": {
          "base_uri": "https://localhost:8080/"
        },
        "id": "2KdV434zMyI1",
        "outputId": "02a6ffe9-7146-4dd9-f93c-20f26ccae757"
      },
      "execution_count": 38,
      "outputs": [
        {
          "output_type": "stream",
          "name": "stdout",
          "text": [
            "           TEAM_ID  SEASON_ID STANDINGSDATE CONFERENCE          TEAM   G   W  \\\n",
            "0       1610612743      22022    2022-12-22       West        Denver  30  19   \n",
            "1       1610612763      22022    2022-12-22       West       Memphis  30  19   \n",
            "2       1610612740      22022    2022-12-22       West   New Orleans  31  19   \n",
            "3       1610612756      22022    2022-12-22       West       Phoenix  32  19   \n",
            "4       1610612746      22022    2022-12-22       West   LA Clippers  33  19   \n",
            "...            ...        ...           ...        ...           ...  ..  ..   \n",
            "210337  1610612765      22013    2014-09-01       East       Detroit  82  29   \n",
            "210338  1610612738      22013    2014-09-01       East        Boston  82  25   \n",
            "210339  1610612753      22013    2014-09-01       East       Orlando  82  23   \n",
            "210340  1610612755      22013    2014-09-01       East  Philadelphia  82  19   \n",
            "210341  1610612749      22013    2014-09-01       East     Milwaukee  82  15   \n",
            "\n",
            "         L  W_PCT HOME_RECORD ROAD_RECORD  \n",
            "0       11  0.633        10-3         9-8  \n",
            "1       11  0.633        13-2         6-9  \n",
            "2       12  0.613        13-4         6-8  \n",
            "3       13  0.594        14-4         5-9  \n",
            "4       14  0.576        11-7         8-7  \n",
            "...     ..    ...         ...         ...  \n",
            "210337  53  0.354       17-24       12-29  \n",
            "210338  57  0.305       16-25        9-32  \n",
            "210339  59  0.280       19-22        4-37  \n",
            "210340  63  0.232       10-31        9-32  \n",
            "210341  67  0.183       10-31        5-36  \n",
            "\n",
            "[210342 rows x 11 columns]\n"
          ]
        }
      ]
    },
    {
      "cell_type": "code",
      "source": [
        "df_LIMP_15= df_LIMP.head(15)\n",
        "print(df_LIMP_15)"
      ],
      "metadata": {
        "colab": {
          "base_uri": "https://localhost:8080/"
        },
        "id": "-NzhuPwMVcLA",
        "outputId": "925ad959-6a3e-416b-86c8-f959fd7e2364"
      },
      "execution_count": 40,
      "outputs": [
        {
          "output_type": "stream",
          "name": "stdout",
          "text": [
            "       TEAM_ID  SEASON_ID STANDINGSDATE CONFERENCE           TEAM   G   W   L  \\\n",
            "0   1610612743      22022    2022-12-22       West         Denver  30  19  11   \n",
            "1   1610612763      22022    2022-12-22       West        Memphis  30  19  11   \n",
            "2   1610612740      22022    2022-12-22       West    New Orleans  31  19  12   \n",
            "3   1610612756      22022    2022-12-22       West        Phoenix  32  19  13   \n",
            "4   1610612746      22022    2022-12-22       West    LA Clippers  33  19  14   \n",
            "5   1610612758      22022    2022-12-22       West     Sacramento  30  17  13   \n",
            "6   1610612762      22022    2022-12-22       West           Utah  35  19  16   \n",
            "7   1610612757      22022    2022-12-22       West       Portland  32  17  15   \n",
            "8   1610612742      22022    2022-12-22       West         Dallas  32  16  16   \n",
            "9   1610612750      22022    2022-12-22       West      Minnesota  32  16  16   \n",
            "10  1610612744      22022    2022-12-22       West   Golden State  33  15  18   \n",
            "11  1610612760      22022    2022-12-22       West  Oklahoma City  32  14  18   \n",
            "12  1610612747      22022    2022-12-22       West    L.A. Lakers  31  13  18   \n",
            "13  1610612759      22022    2022-12-22       West    San Antonio  31  10  21   \n",
            "14  1610612745      22022    2022-12-22       West        Houston  31   9  22   \n",
            "\n",
            "    W_PCT HOME_RECORD ROAD_RECORD  \n",
            "0   0.633        10-3         9-8  \n",
            "1   0.633        13-2         6-9  \n",
            "2   0.613        13-4         6-8  \n",
            "3   0.594        14-4         5-9  \n",
            "4   0.576        11-7         8-7  \n",
            "5   0.567         9-5         8-8  \n",
            "6   0.543        12-5        7-11  \n",
            "7   0.531         7-6        10-9  \n",
            "8   0.500        12-5        4-11  \n",
            "9   0.500         9-8         7-8  \n",
            "10  0.455        12-2        3-16  \n",
            "11  0.438         9-7        5-11  \n",
            "12  0.419         8-7        5-11  \n",
            "13  0.323        5-12         5-9  \n",
            "14  0.290         6-9        3-13  \n"
          ]
        }
      ]
    },
    {
      "cell_type": "code",
      "source": [
        "fig = go.Figure()"
      ],
      "metadata": {
        "id": "ukbDTPW4M5Ib"
      },
      "execution_count": 41,
      "outputs": []
    },
    {
      "cell_type": "code",
      "source": [
        "fig.add_trace(go.Box(y=df_LIMP_15['W_PCT'],name='Porcentaje de victorias'))\n",
        "fig.add_trace(go.Box(x=df_LIMP_15.W,name=\"Victorias\"))\n",
        "fig.update_layout(\n",
        "    title={\n",
        "        'text':\"Porcentaje de Victorias\",\n",
        "        'y':0.9,\n",
        "        'x':0.5,\n",
        "        'xanchor': 'center',\n",
        "        'yanchor': 'top'\n",
        "        }\n",
        ")\n",
        "fig.show()"
      ],
      "metadata": {
        "colab": {
          "base_uri": "https://localhost:8080/",
          "height": 542
        },
        "id": "kW20j-Suakjz",
        "outputId": "3bd7df6a-28b5-410f-8495-36292717e771"
      },
      "execution_count": 42,
      "outputs": [
        {
          "output_type": "display_data",
          "data": {
            "text/html": [
              "<html>\n",
              "<head><meta charset=\"utf-8\" /></head>\n",
              "<body>\n",
              "    <div>            <script src=\"https://cdnjs.cloudflare.com/ajax/libs/mathjax/2.7.5/MathJax.js?config=TeX-AMS-MML_SVG\"></script><script type=\"text/javascript\">if (window.MathJax && window.MathJax.Hub && window.MathJax.Hub.Config) {window.MathJax.Hub.Config({SVG: {font: \"STIX-Web\"}});}</script>                <script type=\"text/javascript\">window.PlotlyConfig = {MathJaxConfig: 'local'};</script>\n",
              "        <script src=\"https://cdn.plot.ly/plotly-2.18.2.min.js\"></script>                <div id=\"4a35676a-1343-412c-8350-720f71337144\" class=\"plotly-graph-div\" style=\"height:525px; width:100%;\"></div>            <script type=\"text/javascript\">                                    window.PLOTLYENV=window.PLOTLYENV || {};                                    if (document.getElementById(\"4a35676a-1343-412c-8350-720f71337144\")) {                    Plotly.newPlot(                        \"4a35676a-1343-412c-8350-720f71337144\",                        [{\"name\":\"Porcentaje de victorias\",\"y\":[0.633,0.633,0.613,0.594,0.576,0.567,0.543,0.531,0.5,0.5,0.455,0.438,0.419,0.323,0.29],\"type\":\"box\"},{\"name\":\"Victorias\",\"x\":[19,19,19,19,19,17,19,17,16,16,15,14,13,10,9],\"type\":\"box\"}],                        {\"template\":{\"data\":{\"histogram2dcontour\":[{\"type\":\"histogram2dcontour\",\"colorbar\":{\"outlinewidth\":0,\"ticks\":\"\"},\"colorscale\":[[0.0,\"#0d0887\"],[0.1111111111111111,\"#46039f\"],[0.2222222222222222,\"#7201a8\"],[0.3333333333333333,\"#9c179e\"],[0.4444444444444444,\"#bd3786\"],[0.5555555555555556,\"#d8576b\"],[0.6666666666666666,\"#ed7953\"],[0.7777777777777778,\"#fb9f3a\"],[0.8888888888888888,\"#fdca26\"],[1.0,\"#f0f921\"]]}],\"choropleth\":[{\"type\":\"choropleth\",\"colorbar\":{\"outlinewidth\":0,\"ticks\":\"\"}}],\"histogram2d\":[{\"type\":\"histogram2d\",\"colorbar\":{\"outlinewidth\":0,\"ticks\":\"\"},\"colorscale\":[[0.0,\"#0d0887\"],[0.1111111111111111,\"#46039f\"],[0.2222222222222222,\"#7201a8\"],[0.3333333333333333,\"#9c179e\"],[0.4444444444444444,\"#bd3786\"],[0.5555555555555556,\"#d8576b\"],[0.6666666666666666,\"#ed7953\"],[0.7777777777777778,\"#fb9f3a\"],[0.8888888888888888,\"#fdca26\"],[1.0,\"#f0f921\"]]}],\"heatmap\":[{\"type\":\"heatmap\",\"colorbar\":{\"outlinewidth\":0,\"ticks\":\"\"},\"colorscale\":[[0.0,\"#0d0887\"],[0.1111111111111111,\"#46039f\"],[0.2222222222222222,\"#7201a8\"],[0.3333333333333333,\"#9c179e\"],[0.4444444444444444,\"#bd3786\"],[0.5555555555555556,\"#d8576b\"],[0.6666666666666666,\"#ed7953\"],[0.7777777777777778,\"#fb9f3a\"],[0.8888888888888888,\"#fdca26\"],[1.0,\"#f0f921\"]]}],\"heatmapgl\":[{\"type\":\"heatmapgl\",\"colorbar\":{\"outlinewidth\":0,\"ticks\":\"\"},\"colorscale\":[[0.0,\"#0d0887\"],[0.1111111111111111,\"#46039f\"],[0.2222222222222222,\"#7201a8\"],[0.3333333333333333,\"#9c179e\"],[0.4444444444444444,\"#bd3786\"],[0.5555555555555556,\"#d8576b\"],[0.6666666666666666,\"#ed7953\"],[0.7777777777777778,\"#fb9f3a\"],[0.8888888888888888,\"#fdca26\"],[1.0,\"#f0f921\"]]}],\"contourcarpet\":[{\"type\":\"contourcarpet\",\"colorbar\":{\"outlinewidth\":0,\"ticks\":\"\"}}],\"contour\":[{\"type\":\"contour\",\"colorbar\":{\"outlinewidth\":0,\"ticks\":\"\"},\"colorscale\":[[0.0,\"#0d0887\"],[0.1111111111111111,\"#46039f\"],[0.2222222222222222,\"#7201a8\"],[0.3333333333333333,\"#9c179e\"],[0.4444444444444444,\"#bd3786\"],[0.5555555555555556,\"#d8576b\"],[0.6666666666666666,\"#ed7953\"],[0.7777777777777778,\"#fb9f3a\"],[0.8888888888888888,\"#fdca26\"],[1.0,\"#f0f921\"]]}],\"surface\":[{\"type\":\"surface\",\"colorbar\":{\"outlinewidth\":0,\"ticks\":\"\"},\"colorscale\":[[0.0,\"#0d0887\"],[0.1111111111111111,\"#46039f\"],[0.2222222222222222,\"#7201a8\"],[0.3333333333333333,\"#9c179e\"],[0.4444444444444444,\"#bd3786\"],[0.5555555555555556,\"#d8576b\"],[0.6666666666666666,\"#ed7953\"],[0.7777777777777778,\"#fb9f3a\"],[0.8888888888888888,\"#fdca26\"],[1.0,\"#f0f921\"]]}],\"mesh3d\":[{\"type\":\"mesh3d\",\"colorbar\":{\"outlinewidth\":0,\"ticks\":\"\"}}],\"scatter\":[{\"fillpattern\":{\"fillmode\":\"overlay\",\"size\":10,\"solidity\":0.2},\"type\":\"scatter\"}],\"parcoords\":[{\"type\":\"parcoords\",\"line\":{\"colorbar\":{\"outlinewidth\":0,\"ticks\":\"\"}}}],\"scatterpolargl\":[{\"type\":\"scatterpolargl\",\"marker\":{\"colorbar\":{\"outlinewidth\":0,\"ticks\":\"\"}}}],\"bar\":[{\"error_x\":{\"color\":\"#2a3f5f\"},\"error_y\":{\"color\":\"#2a3f5f\"},\"marker\":{\"line\":{\"color\":\"#E5ECF6\",\"width\":0.5},\"pattern\":{\"fillmode\":\"overlay\",\"size\":10,\"solidity\":0.2}},\"type\":\"bar\"}],\"scattergeo\":[{\"type\":\"scattergeo\",\"marker\":{\"colorbar\":{\"outlinewidth\":0,\"ticks\":\"\"}}}],\"scatterpolar\":[{\"type\":\"scatterpolar\",\"marker\":{\"colorbar\":{\"outlinewidth\":0,\"ticks\":\"\"}}}],\"histogram\":[{\"marker\":{\"pattern\":{\"fillmode\":\"overlay\",\"size\":10,\"solidity\":0.2}},\"type\":\"histogram\"}],\"scattergl\":[{\"type\":\"scattergl\",\"marker\":{\"colorbar\":{\"outlinewidth\":0,\"ticks\":\"\"}}}],\"scatter3d\":[{\"type\":\"scatter3d\",\"line\":{\"colorbar\":{\"outlinewidth\":0,\"ticks\":\"\"}},\"marker\":{\"colorbar\":{\"outlinewidth\":0,\"ticks\":\"\"}}}],\"scattermapbox\":[{\"type\":\"scattermapbox\",\"marker\":{\"colorbar\":{\"outlinewidth\":0,\"ticks\":\"\"}}}],\"scatterternary\":[{\"type\":\"scatterternary\",\"marker\":{\"colorbar\":{\"outlinewidth\":0,\"ticks\":\"\"}}}],\"scattercarpet\":[{\"type\":\"scattercarpet\",\"marker\":{\"colorbar\":{\"outlinewidth\":0,\"ticks\":\"\"}}}],\"carpet\":[{\"aaxis\":{\"endlinecolor\":\"#2a3f5f\",\"gridcolor\":\"white\",\"linecolor\":\"white\",\"minorgridcolor\":\"white\",\"startlinecolor\":\"#2a3f5f\"},\"baxis\":{\"endlinecolor\":\"#2a3f5f\",\"gridcolor\":\"white\",\"linecolor\":\"white\",\"minorgridcolor\":\"white\",\"startlinecolor\":\"#2a3f5f\"},\"type\":\"carpet\"}],\"table\":[{\"cells\":{\"fill\":{\"color\":\"#EBF0F8\"},\"line\":{\"color\":\"white\"}},\"header\":{\"fill\":{\"color\":\"#C8D4E3\"},\"line\":{\"color\":\"white\"}},\"type\":\"table\"}],\"barpolar\":[{\"marker\":{\"line\":{\"color\":\"#E5ECF6\",\"width\":0.5},\"pattern\":{\"fillmode\":\"overlay\",\"size\":10,\"solidity\":0.2}},\"type\":\"barpolar\"}],\"pie\":[{\"automargin\":true,\"type\":\"pie\"}]},\"layout\":{\"autotypenumbers\":\"strict\",\"colorway\":[\"#636efa\",\"#EF553B\",\"#00cc96\",\"#ab63fa\",\"#FFA15A\",\"#19d3f3\",\"#FF6692\",\"#B6E880\",\"#FF97FF\",\"#FECB52\"],\"font\":{\"color\":\"#2a3f5f\"},\"hovermode\":\"closest\",\"hoverlabel\":{\"align\":\"left\"},\"paper_bgcolor\":\"white\",\"plot_bgcolor\":\"#E5ECF6\",\"polar\":{\"bgcolor\":\"#E5ECF6\",\"angularaxis\":{\"gridcolor\":\"white\",\"linecolor\":\"white\",\"ticks\":\"\"},\"radialaxis\":{\"gridcolor\":\"white\",\"linecolor\":\"white\",\"ticks\":\"\"}},\"ternary\":{\"bgcolor\":\"#E5ECF6\",\"aaxis\":{\"gridcolor\":\"white\",\"linecolor\":\"white\",\"ticks\":\"\"},\"baxis\":{\"gridcolor\":\"white\",\"linecolor\":\"white\",\"ticks\":\"\"},\"caxis\":{\"gridcolor\":\"white\",\"linecolor\":\"white\",\"ticks\":\"\"}},\"coloraxis\":{\"colorbar\":{\"outlinewidth\":0,\"ticks\":\"\"}},\"colorscale\":{\"sequential\":[[0.0,\"#0d0887\"],[0.1111111111111111,\"#46039f\"],[0.2222222222222222,\"#7201a8\"],[0.3333333333333333,\"#9c179e\"],[0.4444444444444444,\"#bd3786\"],[0.5555555555555556,\"#d8576b\"],[0.6666666666666666,\"#ed7953\"],[0.7777777777777778,\"#fb9f3a\"],[0.8888888888888888,\"#fdca26\"],[1.0,\"#f0f921\"]],\"sequentialminus\":[[0.0,\"#0d0887\"],[0.1111111111111111,\"#46039f\"],[0.2222222222222222,\"#7201a8\"],[0.3333333333333333,\"#9c179e\"],[0.4444444444444444,\"#bd3786\"],[0.5555555555555556,\"#d8576b\"],[0.6666666666666666,\"#ed7953\"],[0.7777777777777778,\"#fb9f3a\"],[0.8888888888888888,\"#fdca26\"],[1.0,\"#f0f921\"]],\"diverging\":[[0,\"#8e0152\"],[0.1,\"#c51b7d\"],[0.2,\"#de77ae\"],[0.3,\"#f1b6da\"],[0.4,\"#fde0ef\"],[0.5,\"#f7f7f7\"],[0.6,\"#e6f5d0\"],[0.7,\"#b8e186\"],[0.8,\"#7fbc41\"],[0.9,\"#4d9221\"],[1,\"#276419\"]]},\"xaxis\":{\"gridcolor\":\"white\",\"linecolor\":\"white\",\"ticks\":\"\",\"title\":{\"standoff\":15},\"zerolinecolor\":\"white\",\"automargin\":true,\"zerolinewidth\":2},\"yaxis\":{\"gridcolor\":\"white\",\"linecolor\":\"white\",\"ticks\":\"\",\"title\":{\"standoff\":15},\"zerolinecolor\":\"white\",\"automargin\":true,\"zerolinewidth\":2},\"scene\":{\"xaxis\":{\"backgroundcolor\":\"#E5ECF6\",\"gridcolor\":\"white\",\"linecolor\":\"white\",\"showbackground\":true,\"ticks\":\"\",\"zerolinecolor\":\"white\",\"gridwidth\":2},\"yaxis\":{\"backgroundcolor\":\"#E5ECF6\",\"gridcolor\":\"white\",\"linecolor\":\"white\",\"showbackground\":true,\"ticks\":\"\",\"zerolinecolor\":\"white\",\"gridwidth\":2},\"zaxis\":{\"backgroundcolor\":\"#E5ECF6\",\"gridcolor\":\"white\",\"linecolor\":\"white\",\"showbackground\":true,\"ticks\":\"\",\"zerolinecolor\":\"white\",\"gridwidth\":2}},\"shapedefaults\":{\"line\":{\"color\":\"#2a3f5f\"}},\"annotationdefaults\":{\"arrowcolor\":\"#2a3f5f\",\"arrowhead\":0,\"arrowwidth\":1},\"geo\":{\"bgcolor\":\"white\",\"landcolor\":\"#E5ECF6\",\"subunitcolor\":\"white\",\"showland\":true,\"showlakes\":true,\"lakecolor\":\"white\"},\"title\":{\"x\":0.05},\"mapbox\":{\"style\":\"light\"}}},\"title\":{\"text\":\"Porcentaje de Victorias\",\"y\":0.9,\"x\":0.5,\"xanchor\":\"center\",\"yanchor\":\"top\"}},                        {\"responsive\": true}                    ).then(function(){\n",
              "                            \n",
              "var gd = document.getElementById('4a35676a-1343-412c-8350-720f71337144');\n",
              "var x = new MutationObserver(function (mutations, observer) {{\n",
              "        var display = window.getComputedStyle(gd).display;\n",
              "        if (!display || display === 'none') {{\n",
              "            console.log([gd, 'removed!']);\n",
              "            Plotly.purge(gd);\n",
              "            observer.disconnect();\n",
              "        }}\n",
              "}});\n",
              "\n",
              "// Listen for the removal of the full notebook cells\n",
              "var notebookContainer = gd.closest('#notebook-container');\n",
              "if (notebookContainer) {{\n",
              "    x.observe(notebookContainer, {childList: true});\n",
              "}}\n",
              "\n",
              "// Listen for the clearing of the current output cell\n",
              "var outputEl = gd.closest('.output');\n",
              "if (outputEl) {{\n",
              "    x.observe(outputEl, {childList: true});\n",
              "}}\n",
              "\n",
              "                        })                };                            </script>        </div>\n",
              "</body>\n",
              "</html>"
            ]
          },
          "metadata": {}
        }
      ]
    },
    {
      "cell_type": "markdown",
      "source": [
        "# Modelos lineales"
      ],
      "metadata": {
        "id": "cwpJIGS2byhB"
      }
    },
    {
      "cell_type": "code",
      "source": [
        "import pandas as pd\n",
        "import matplotlib.pyplot as plt\n"
      ],
      "metadata": {
        "id": "CddxNRPha3BR"
      },
      "execution_count": 43,
      "outputs": []
    },
    {
      "cell_type": "code",
      "source": [
        "from sklearn.linear_model import LinearRegression\n"
      ],
      "metadata": {
        "id": "3MAdBECELKms"
      },
      "execution_count": 76,
      "outputs": []
    },
    {
      "cell_type": "code",
      "source": [
        "df = pd.read_csv(\"/content/drive/MyDrive/Mineria de datos/ranking.csv\")"
      ],
      "metadata": {
        "id": "a7HrDBF2PPTT"
      },
      "execution_count": 77,
      "outputs": []
    },
    {
      "cell_type": "code",
      "source": [
        "df_LIMP = pd.DataFrame.from_dict(df.loc[:,['TEAM_ID','SEASON_ID','STANDINGSDATE','CONFERENCE','TEAM'\n",
        ",'G','W','L','W_PCT','HOME_RECORD','ROAD_RECORD']])\n",
        "print(df_LIMP)"
      ],
      "metadata": {
        "colab": {
          "base_uri": "https://localhost:8080/"
        },
        "id": "G1dAYJBJPUiT",
        "outputId": "1fb75a60-4786-431f-e20e-213638fe0efe"
      },
      "execution_count": 78,
      "outputs": [
        {
          "output_type": "stream",
          "name": "stdout",
          "text": [
            "           TEAM_ID  SEASON_ID STANDINGSDATE CONFERENCE          TEAM   G   W  \\\n",
            "0       1610612743      22022    2022-12-22       West        Denver  30  19   \n",
            "1       1610612763      22022    2022-12-22       West       Memphis  30  19   \n",
            "2       1610612740      22022    2022-12-22       West   New Orleans  31  19   \n",
            "3       1610612756      22022    2022-12-22       West       Phoenix  32  19   \n",
            "4       1610612746      22022    2022-12-22       West   LA Clippers  33  19   \n",
            "...            ...        ...           ...        ...           ...  ..  ..   \n",
            "210337  1610612765      22013    2014-09-01       East       Detroit  82  29   \n",
            "210338  1610612738      22013    2014-09-01       East        Boston  82  25   \n",
            "210339  1610612753      22013    2014-09-01       East       Orlando  82  23   \n",
            "210340  1610612755      22013    2014-09-01       East  Philadelphia  82  19   \n",
            "210341  1610612749      22013    2014-09-01       East     Milwaukee  82  15   \n",
            "\n",
            "         L  W_PCT HOME_RECORD ROAD_RECORD  \n",
            "0       11  0.633        10-3         9-8  \n",
            "1       11  0.633        13-2         6-9  \n",
            "2       12  0.613        13-4         6-8  \n",
            "3       13  0.594        14-4         5-9  \n",
            "4       14  0.576        11-7         8-7  \n",
            "...     ..    ...         ...         ...  \n",
            "210337  53  0.354       17-24       12-29  \n",
            "210338  57  0.305       16-25        9-32  \n",
            "210339  59  0.280       19-22        4-37  \n",
            "210340  63  0.232       10-31        9-32  \n",
            "210341  67  0.183       10-31        5-36  \n",
            "\n",
            "[210342 rows x 11 columns]\n"
          ]
        }
      ]
    },
    {
      "cell_type": "code",
      "source": [
        "df_LIMP_15= df_LIMP.head(15)\n",
        "print(df_LIMP_15)"
      ],
      "metadata": {
        "colab": {
          "base_uri": "https://localhost:8080/"
        },
        "id": "NjdKaznoPayd",
        "outputId": "9ebad725-38e3-470d-c133-8bc94b75648d"
      },
      "execution_count": 79,
      "outputs": [
        {
          "output_type": "stream",
          "name": "stdout",
          "text": [
            "       TEAM_ID  SEASON_ID STANDINGSDATE CONFERENCE           TEAM   G   W   L  \\\n",
            "0   1610612743      22022    2022-12-22       West         Denver  30  19  11   \n",
            "1   1610612763      22022    2022-12-22       West        Memphis  30  19  11   \n",
            "2   1610612740      22022    2022-12-22       West    New Orleans  31  19  12   \n",
            "3   1610612756      22022    2022-12-22       West        Phoenix  32  19  13   \n",
            "4   1610612746      22022    2022-12-22       West    LA Clippers  33  19  14   \n",
            "5   1610612758      22022    2022-12-22       West     Sacramento  30  17  13   \n",
            "6   1610612762      22022    2022-12-22       West           Utah  35  19  16   \n",
            "7   1610612757      22022    2022-12-22       West       Portland  32  17  15   \n",
            "8   1610612742      22022    2022-12-22       West         Dallas  32  16  16   \n",
            "9   1610612750      22022    2022-12-22       West      Minnesota  32  16  16   \n",
            "10  1610612744      22022    2022-12-22       West   Golden State  33  15  18   \n",
            "11  1610612760      22022    2022-12-22       West  Oklahoma City  32  14  18   \n",
            "12  1610612747      22022    2022-12-22       West    L.A. Lakers  31  13  18   \n",
            "13  1610612759      22022    2022-12-22       West    San Antonio  31  10  21   \n",
            "14  1610612745      22022    2022-12-22       West        Houston  31   9  22   \n",
            "\n",
            "    W_PCT HOME_RECORD ROAD_RECORD  \n",
            "0   0.633        10-3         9-8  \n",
            "1   0.633        13-2         6-9  \n",
            "2   0.613        13-4         6-8  \n",
            "3   0.594        14-4         5-9  \n",
            "4   0.576        11-7         8-7  \n",
            "5   0.567         9-5         8-8  \n",
            "6   0.543        12-5        7-11  \n",
            "7   0.531         7-6        10-9  \n",
            "8   0.500        12-5        4-11  \n",
            "9   0.500         9-8         7-8  \n",
            "10  0.455        12-2        3-16  \n",
            "11  0.438         9-7        5-11  \n",
            "12  0.419         8-7        5-11  \n",
            "13  0.323        5-12         5-9  \n",
            "14  0.290         6-9        3-13  \n"
          ]
        }
      ]
    },
    {
      "cell_type": "code",
      "source": [
        "X = df_LIMP_15['W_PCT'].values.reshape(-1,1)\n",
        "Y = df_LIMP_15['W']"
      ],
      "metadata": {
        "id": "Tneiu1bUV-Mj"
      },
      "execution_count": 80,
      "outputs": []
    },
    {
      "cell_type": "code",
      "source": [
        "linear_regressor = LinearRegression()\n",
        "linear_regressor.fit(X, Y)\n",
        "Y_pred = linear_regressor.predict(X)"
      ],
      "metadata": {
        "id": "k84CuuSRXHhp"
      },
      "execution_count": 85,
      "outputs": []
    },
    {
      "cell_type": "code",
      "source": [
        "plt.scatter(X, Y)\n",
        "plt.plot(X, Y_pred, color='red')\n",
        "plt.xlabel('Porcentaje')\n",
        "plt.ylabel('Victorias')\n",
        "plt.title('GRAFICA')\n",
        "plt.show()\n",
        "plt.close()"
      ],
      "metadata": {
        "colab": {
          "base_uri": "https://localhost:8080/",
          "height": 472
        },
        "id": "pj7Phl1xXZzN",
        "outputId": "0328d77f-b390-4bca-8275-5892755f9fd3"
      },
      "execution_count": 87,
      "outputs": [
        {
          "output_type": "display_data",
          "data": {
            "text/plain": [
              "<Figure size 640x480 with 1 Axes>"
            ],
            "image/png": "[encoded data removed]"
          },
          "metadata": {}
        }
      ]
    },
    {
      "cell_type": "code",
      "source": [
        "df_lr = pd.DataFrame({'W_PCT': df_LIMP_15['W_PCT'], 'W': df_LIMP_15['W']})\n",
        "df_lr_plot_scatter = df_lr.plot.scatter(x= 'W', y= 'W_PCT')\n",
        "fig = df_lr_plot_scatter.get_figure()\n",
        "plt.xlabel('Victorias')\n",
        "plt.ylabel('Porcentaje')\n",
        "plt.title('GRAFICA')\n",
        "plt.show()\n",
        "plt.close()"
      ],
      "metadata": {
        "colab": {
          "base_uri": "https://localhost:8080/",
          "height": 472
        },
        "id": "vTPTGpxKcHzx",
        "outputId": "c78b1864-5d5a-4e5a-9b99-a69ab822f00c"
      },
      "execution_count": 89,
      "outputs": [
        {
          "output_type": "display_data",
          "data": {
            "text/plain": [
              "<Figure size 640x480 with 1 Axes>"
            ],
            "image/png": "[encoded data removed]"
          },
          "metadata": {}
        }
      ]
    }
  ]
}